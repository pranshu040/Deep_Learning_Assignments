{
  "cells": [
    {
      "cell_type": "markdown",
      "source": [
        "DEEP LEARNING\n",
        "\n",
        "LAB-8\n",
        "\n",
        "PRANSHU PARATE\n",
        "\n",
        "202211063"
      ],
      "metadata": {
        "id": "LcPFzDBL16zc"
      }
    },
    {
      "cell_type": "markdown",
      "source": [
        "APPAREL DATASET"
      ],
      "metadata": {
        "id": "XxtP_jmE2AV6"
      }
    },
    {
      "cell_type": "markdown",
      "source": [
        "Use Apparel images dataset and train multiple output CNN model to classify each dress image's category and color"
      ],
      "metadata": {
        "id": "bGxqmXBv6J1c"
      }
    },
    {
      "cell_type": "code",
      "execution_count": null,
      "metadata": {
        "id": "5-Ab06lT3KcF"
      },
      "outputs": [],
      "source": [
        "#importing packages\n",
        "import numpy as np\n",
        "import pandas as pd\n",
        "import cv2 as cv\n",
        "import matplotlib.pyplot as plt\n",
        "import seaborn as sns\n",
        "import os\n",
        "import tensorflow as tf\n",
        "import re\n",
        "import requests\n",
        "import numpy as np\n",
        "import pandas as pd\n",
        "import cv2 as cv\n",
        "import matplotlib.pyplot as plt\n",
        "import seaborn as sns\n",
        "import os\n",
        "import tensorflow as tf\n",
        "import re\n",
        "import requests\n",
        "\n",
        "from sklearn.model_selection import train_test_split\n",
        "from sklearn.metrics import confusion_matrix\n",
        "from sklearn.preprocessing import LabelBinarizer\n",
        "\n",
        "from keras.models import Sequential, Model\n",
        "from keras.layers import Conv2D, Dense, BatchNormalization, Dropout \n",
        "from keras.layers import Flatten, Lambda, Input, MaxPooling2D\n",
        "from keras.utils.np_utils import to_categorical\n",
        "from keras.preprocessing.image import ImageDataGenerator\n",
        "from keras.callbacks import ModelCheckpoint\n",
        "from keras.regularizers import l1, l2\n",
        "\n",
        "%config InlineBackend.figure_format = 'svg'\n"
      ]
    },
    {
      "cell_type": "code",
      "execution_count": null,
      "metadata": {
        "colab": {
          "base_uri": "https://localhost:8080/"
        },
        "id": "mZ3Zo2gj3PxD",
        "outputId": "30b00039-a5ea-49a4-b99a-6ecd9c519f79"
      },
      "outputs": [
        {
          "output_type": "stream",
          "name": "stdout",
          "text": [
            "Drive already mounted at /content/drive; to attempt to forcibly remount, call drive.mount(\"/content/drive\", force_remount=True).\n"
          ]
        }
      ],
      "source": [
        "#mount the google drive\n",
        "from google.colab import drive\n",
        "drive.mount('/content/drive')"
      ]
    },
    {
      "cell_type": "code",
      "execution_count": null,
      "metadata": {
        "id": "lzz8czCt3S2M"
      },
      "outputs": [],
      "source": [
        "# Input shape for CNN and to resize images\n",
        "input_shape = (110, 110, 3)"
      ]
    },
    {
      "cell_type": "code",
      "execution_count": null,
      "metadata": {
        "id": "qMJOvcMi3YPE"
      },
      "outputs": [],
      "source": [
        "X = [] # Lists for images data\n",
        "Y_cat = [] # List to store category of image (dress, shirt etc)\n",
        "Y_col = [] # List to store color of apparel\n",
        "\n",
        "# Path to dataset\n",
        "dataset = '/content/drive/MyDrive/apparel_data/apparel_data'\n",
        "\n",
        "# Loop through all categories in dataset\n",
        "for folder in os.listdir(dataset):\n",
        "    \n",
        "    # Path to images in certain category\n",
        "    folder_path = os.path.join(dataset, folder)\n",
        "    \n",
        "    # Loop through all images in category\n",
        "    for i in os.listdir(folder_path):\n",
        "        \n",
        "        # Path to certain image (Example: ../input/apparel-images-dataset/blue_dress/11d5fd4203b08f26dac2e7fa2294c6f01babee15.jpg)\n",
        "        path_to_image = os.path.join(folder_path, i)\n",
        "        \n",
        "        # Reading and resizing image to 96x96 pixels size\n",
        "        image = cv.imread(path_to_image)\n",
        "        image = cv.resize(image, (input_shape[1], input_shape[0]))\n",
        "        \n",
        "        # using regex to extract labels from path_to_image\n",
        "        labels = re.findall(r'\\w+\\_\\w+', path_to_image) # Gives us ['blue_dress']\n",
        "        labels = labels[0].split('_') # Gives us ['blue', 'dress']\n",
        "        \n",
        "        # Adding data and labels to lists\n",
        "        X.append(image)\n",
        "        Y_cat.append(labels[1])\n",
        "        Y_col.append(labels[0])"
      ]
    },
    {
      "cell_type": "code",
      "execution_count": null,
      "metadata": {
        "id": "c0zH1CYl3fHU"
      },
      "outputs": [],
      "source": [
        "# Convert X to numpy array\n",
        "X = np.array(X) / 255.0\n",
        "\n",
        "# Binarizing labels\n",
        "lb_cat = LabelBinarizer()\n",
        "Y_cat = lb_cat.fit_transform(Y_cat)\n",
        "\n",
        "lb_col = LabelBinarizer()\n",
        "Y_col = lb_col.fit_transform(Y_col)"
      ]
    },
    {
      "cell_type": "code",
      "execution_count": null,
      "metadata": {
        "id": "hWHHZ5Bz3huJ",
        "colab": {
          "base_uri": "https://localhost:8080/"
        },
        "outputId": "20b73d08-7aad-408c-dd20-0fd8e6b28831"
      },
      "outputs": [
        {
          "output_type": "stream",
          "name": "stdout",
          "text": [
            "Category classes:\n",
            "('data', 0)\n",
            "\n",
            "Color classes:\n",
            "('apparel', 0)\n"
          ]
        },
        {
          "output_type": "execute_result",
          "data": {
            "text/plain": [
              "[None]"
            ]
          },
          "metadata": {},
          "execution_count": 6
        }
      ],
      "source": [
        "# Labels\n",
        "print('Category classes:')\n",
        "[print(i) for i in zip(lb_cat.classes_, np.unique(np.argmax(Y_cat, axis = 1)))]\n",
        "\n",
        "print('\\nColor classes:')\n",
        "[print(i) for i in zip(lb_col.classes_, np.unique(np.argmax(Y_col, axis = 1)))]"
      ]
    },
    {
      "cell_type": "code",
      "execution_count": null,
      "metadata": {
        "id": "lPiluasn3kFo"
      },
      "outputs": [],
      "source": [
        "# test_x, cat_y_test, col_y_test - for final validation\n",
        "x, test_x, cat_y, cat_y_test, col_y, col_y_test = train_test_split(X, Y_cat, Y_col, test_size = 0.1, shuffle = True, random_state = 1)\n",
        "\n",
        "# Train and validation data\n",
        "train_x, val_x, cat_y_train, cat_y_val, col_y_train, col_y_val = train_test_split(x, cat_y, col_y, test_size = 0.2)"
      ]
    },
    {
      "cell_type": "code",
      "execution_count": null,
      "metadata": {
        "id": "QRWFd83v3nco"
      },
      "outputs": [],
      "source": [
        "#model creation and training\n",
        "inputs = Input(shape = input_shape)\n",
        "\n",
        "# Category branch\n",
        "cat = Lambda(lambda z: tf.image.rgb_to_grayscale(z))(inputs)\n",
        "\n",
        "cat = Conv2D(32, 5, padding = 'same', activation = 'relu', kernel_initializer = 'he_normal')(cat)\n",
        "cat = BatchNormalization()(cat)\n",
        "cat = Conv2D(32, 5, padding = 'same', activation = 'relu', kernel_initializer = 'he_normal')(cat)\n",
        "cat = BatchNormalization()(cat)\n",
        "cat = MaxPooling2D()(cat)\n",
        "cat = Dropout(0.25)(cat)\n",
        "\n",
        "cat = Conv2D(64, 3, padding = 'same', activation = 'relu', kernel_initializer = 'he_normal')(cat)\n",
        "cat = BatchNormalization()(cat)\n",
        "cat = Conv2D(64, 3, padding = 'same', activation = 'relu', kernel_initializer = 'he_normal')(cat)\n",
        "cat = BatchNormalization()(cat)\n",
        "cat = MaxPooling2D()(cat)\n",
        "cat = Dropout(0.25)(cat)\n",
        "\n",
        "cat = Conv2D(128, 3, padding = 'same', activation = 'relu', kernel_initializer = 'he_normal')(cat)\n",
        "cat = BatchNormalization()(cat)\n",
        "cat = Conv2D(128, 3, padding = 'same', activation = 'relu', kernel_initializer = 'he_normal')(cat)\n",
        "cat = BatchNormalization()(cat)\n",
        "cat = MaxPooling2D()(cat)\n",
        "cat = Dropout(0.25)(cat)\n",
        "\n",
        "cat = Flatten()(cat)\n",
        "cat = Dense(128, activation = 'relu', kernel_initializer = 'he_normal')(cat)\n",
        "cat = BatchNormalization()(cat)\n",
        "cat = Dropout(0.5)(cat)\n",
        "cat = Dense(lb_cat.classes_.shape[0], activation = 'softmax', name = 'cat')(cat)\n"
      ]
    },
    {
      "cell_type": "code",
      "execution_count": null,
      "metadata": {
        "id": "kyPj4uQ13qiy"
      },
      "outputs": [],
      "source": [
        "#Color branch\n",
        "col = Conv2D(16, 3, padding = 'same', activation = 'relu', kernel_initializer = 'he_normal')(inputs)\n",
        "col = BatchNormalization(axis = -1)(col)\n",
        "col = MaxPooling2D(3)(col)\n",
        "col = Dropout(0.25)(col)\n",
        "\n",
        "col = Conv2D(32, 3, padding = 'same', activation = 'relu', kernel_initializer = 'he_normal')(col)\n",
        "col = BatchNormalization(axis = -1)(col)\n",
        "col = MaxPooling2D()(col)\n",
        "col = Dropout(0.25)(col)\n",
        "\n",
        "col = Conv2D(32, 3, padding = 'same', activation = 'relu', kernel_initializer = 'he_normal')(col)\n",
        "col = BatchNormalization(axis = -1)(col)\n",
        "col = MaxPooling2D()(col)\n",
        "col = Dropout(0.25)(col)\n",
        "\n",
        "col = Flatten()(col)\n",
        "col = Dense(128, activation = 'relu', kernel_initializer = 'he_normal')(col)\n",
        "col = BatchNormalization()(col)\n",
        "col = Dropout(0.5)(col)\n",
        "col = Dense(lb_col.classes_.shape[0], activation = 'softmax', name = 'col')(col)\n"
      ]
    },
    {
      "cell_type": "code",
      "execution_count": null,
      "metadata": {
        "id": "xEsM3Uqo3uH4"
      },
      "outputs": [],
      "source": [
        "model = Model(inputs = inputs, outputs = [cat, col])\n",
        "losses = {'cat': 'categorical_crossentropy',\n",
        "         'col': 'categorical_crossentropy'}\n",
        "loss_weights = {'cat': 1.0, 'col': 1.0}\n",
        "\n",
        "checkpoint = ModelCheckpoint('../working/best_model.hdf5', save_best_only = True, verbose = 1, monitor = 'val_loss')\n",
        "\n"
      ]
    },
    {
      "cell_type": "code",
      "execution_count": null,
      "metadata": {
        "id": "zs39DnYS3zE6"
      },
      "outputs": [],
      "source": [
        "#compilation of  model\n",
        "model.compile(optimizer = 'adam', loss = losses, \n",
        "              loss_weights = loss_weights, metrics = ['accuracy'])\n"
      ]
    },
    {
      "cell_type": "code",
      "execution_count": null,
      "metadata": {
        "id": "abVF8zhP32lD",
        "colab": {
          "base_uri": "https://localhost:8080/"
        },
        "outputId": "598bdb17-9d77-4019-ca6a-4270da624519"
      },
      "outputs": [
        {
          "output_type": "stream",
          "name": "stdout",
          "text": [
            "Epoch 1/10\n",
            "34/34 [==============================] - ETA: 0s - loss: 0.0000e+00 - cat_loss: 0.0000e+00 - col_loss: 0.0000e+00 - cat_accuracy: 0.0000e+00 - col_accuracy: 0.0000e+00\n",
            "Epoch 1: val_loss did not improve from 0.00000\n",
            "34/34 [==============================] - 11s 308ms/step - loss: 0.0000e+00 - cat_loss: 0.0000e+00 - col_loss: 0.0000e+00 - cat_accuracy: 0.0000e+00 - col_accuracy: 0.0000e+00 - val_loss: 0.0000e+00 - val_cat_loss: 0.0000e+00 - val_col_loss: 0.0000e+00 - val_cat_accuracy: 0.0000e+00 - val_col_accuracy: 0.0000e+00\n",
            "Epoch 2/10\n",
            "34/34 [==============================] - ETA: 0s - loss: 0.0000e+00 - cat_loss: 0.0000e+00 - col_loss: 0.0000e+00 - cat_accuracy: 0.0000e+00 - col_accuracy: 0.0000e+00\n",
            "Epoch 2: val_loss did not improve from 0.00000\n",
            "34/34 [==============================] - 10s 300ms/step - loss: 0.0000e+00 - cat_loss: 0.0000e+00 - col_loss: 0.0000e+00 - cat_accuracy: 0.0000e+00 - col_accuracy: 0.0000e+00 - val_loss: 0.0000e+00 - val_cat_loss: 0.0000e+00 - val_col_loss: 0.0000e+00 - val_cat_accuracy: 0.0000e+00 - val_col_accuracy: 0.0000e+00\n",
            "Epoch 3/10\n",
            "34/34 [==============================] - ETA: 0s - loss: 0.0000e+00 - cat_loss: 0.0000e+00 - col_loss: 0.0000e+00 - cat_accuracy: 0.0000e+00 - col_accuracy: 0.0000e+00\n",
            "Epoch 3: val_loss did not improve from 0.00000\n",
            "34/34 [==============================] - 10s 300ms/step - loss: 0.0000e+00 - cat_loss: 0.0000e+00 - col_loss: 0.0000e+00 - cat_accuracy: 0.0000e+00 - col_accuracy: 0.0000e+00 - val_loss: 0.0000e+00 - val_cat_loss: 0.0000e+00 - val_col_loss: 0.0000e+00 - val_cat_accuracy: 0.0000e+00 - val_col_accuracy: 0.0000e+00\n",
            "Epoch 4/10\n",
            "34/34 [==============================] - ETA: 0s - loss: 0.0000e+00 - cat_loss: 0.0000e+00 - col_loss: 0.0000e+00 - cat_accuracy: 0.0000e+00 - col_accuracy: 0.0000e+00\n",
            "Epoch 4: val_loss did not improve from 0.00000\n",
            "34/34 [==============================] - 10s 290ms/step - loss: 0.0000e+00 - cat_loss: 0.0000e+00 - col_loss: 0.0000e+00 - cat_accuracy: 0.0000e+00 - col_accuracy: 0.0000e+00 - val_loss: 0.0000e+00 - val_cat_loss: 0.0000e+00 - val_col_loss: 0.0000e+00 - val_cat_accuracy: 0.0000e+00 - val_col_accuracy: 0.0000e+00\n",
            "Epoch 5/10\n",
            "34/34 [==============================] - ETA: 0s - loss: 0.0000e+00 - cat_loss: 0.0000e+00 - col_loss: 0.0000e+00 - cat_accuracy: 0.0000e+00 - col_accuracy: 0.0000e+00\n",
            "Epoch 5: val_loss did not improve from 0.00000\n",
            "34/34 [==============================] - 10s 287ms/step - loss: 0.0000e+00 - cat_loss: 0.0000e+00 - col_loss: 0.0000e+00 - cat_accuracy: 0.0000e+00 - col_accuracy: 0.0000e+00 - val_loss: 0.0000e+00 - val_cat_loss: 0.0000e+00 - val_col_loss: 0.0000e+00 - val_cat_accuracy: 0.0000e+00 - val_col_accuracy: 0.0000e+00\n",
            "Epoch 6/10\n",
            "34/34 [==============================] - ETA: 0s - loss: 0.0000e+00 - cat_loss: 0.0000e+00 - col_loss: 0.0000e+00 - cat_accuracy: 0.0000e+00 - col_accuracy: 0.0000e+00\n",
            "Epoch 6: val_loss did not improve from 0.00000\n",
            "34/34 [==============================] - 10s 291ms/step - loss: 0.0000e+00 - cat_loss: 0.0000e+00 - col_loss: 0.0000e+00 - cat_accuracy: 0.0000e+00 - col_accuracy: 0.0000e+00 - val_loss: 0.0000e+00 - val_cat_loss: 0.0000e+00 - val_col_loss: 0.0000e+00 - val_cat_accuracy: 0.0000e+00 - val_col_accuracy: 0.0000e+00\n",
            "Epoch 7/10\n",
            "34/34 [==============================] - ETA: 0s - loss: 0.0000e+00 - cat_loss: 0.0000e+00 - col_loss: 0.0000e+00 - cat_accuracy: 0.0000e+00 - col_accuracy: 0.0000e+00\n",
            "Epoch 7: val_loss did not improve from 0.00000\n",
            "34/34 [==============================] - 10s 292ms/step - loss: 0.0000e+00 - cat_loss: 0.0000e+00 - col_loss: 0.0000e+00 - cat_accuracy: 0.0000e+00 - col_accuracy: 0.0000e+00 - val_loss: 0.0000e+00 - val_cat_loss: 0.0000e+00 - val_col_loss: 0.0000e+00 - val_cat_accuracy: 0.0000e+00 - val_col_accuracy: 0.0000e+00\n",
            "Epoch 8/10\n",
            "34/34 [==============================] - ETA: 0s - loss: 0.0000e+00 - cat_loss: 0.0000e+00 - col_loss: 0.0000e+00 - cat_accuracy: 0.0000e+00 - col_accuracy: 0.0000e+00\n",
            "Epoch 8: val_loss did not improve from 0.00000\n",
            "34/34 [==============================] - 10s 294ms/step - loss: 0.0000e+00 - cat_loss: 0.0000e+00 - col_loss: 0.0000e+00 - cat_accuracy: 0.0000e+00 - col_accuracy: 0.0000e+00 - val_loss: 0.0000e+00 - val_cat_loss: 0.0000e+00 - val_col_loss: 0.0000e+00 - val_cat_accuracy: 0.0000e+00 - val_col_accuracy: 0.0000e+00\n",
            "Epoch 9/10\n",
            "34/34 [==============================] - ETA: 0s - loss: 0.0000e+00 - cat_loss: 0.0000e+00 - col_loss: 0.0000e+00 - cat_accuracy: 0.0000e+00 - col_accuracy: 0.0000e+00\n",
            "Epoch 9: val_loss did not improve from 0.00000\n",
            "34/34 [==============================] - 10s 290ms/step - loss: 0.0000e+00 - cat_loss: 0.0000e+00 - col_loss: 0.0000e+00 - cat_accuracy: 0.0000e+00 - col_accuracy: 0.0000e+00 - val_loss: 0.0000e+00 - val_cat_loss: 0.0000e+00 - val_col_loss: 0.0000e+00 - val_cat_accuracy: 0.0000e+00 - val_col_accuracy: 0.0000e+00\n",
            "Epoch 10/10\n",
            "34/34 [==============================] - ETA: 0s - loss: 0.0000e+00 - cat_loss: 0.0000e+00 - col_loss: 0.0000e+00 - cat_accuracy: 0.0000e+00 - col_accuracy: 0.0000e+00\n",
            "Epoch 10: val_loss did not improve from 0.00000\n",
            "34/34 [==============================] - 10s 295ms/step - loss: 0.0000e+00 - cat_loss: 0.0000e+00 - col_loss: 0.0000e+00 - cat_accuracy: 0.0000e+00 - col_accuracy: 0.0000e+00 - val_loss: 0.0000e+00 - val_cat_loss: 0.0000e+00 - val_col_loss: 0.0000e+00 - val_cat_accuracy: 0.0000e+00 - val_col_accuracy: 0.0000e+00\n"
          ]
        }
      ],
      "source": [
        "#fitting of model\n",
        "history = model.fit(train_x, {'cat': cat_y_train, 'col': col_y_train},\n",
        "         validation_data = (val_x, {'cat': cat_y_val, 'col': col_y_val}),\n",
        "         batch_size = 128, epochs = 10, callbacks = [checkpoint])"
      ]
    },
    {
      "cell_type": "code",
      "execution_count": null,
      "metadata": {
        "id": "kCRj-uIX35ma",
        "colab": {
          "base_uri": "https://localhost:8080/",
          "height": 452
        },
        "outputId": "3c5529a3-6a12-4601-b3aa-6f6a21fceecb"
      },
      "outputs": [
        {
          "output_type": "display_data",
          "data": {
            "text/plain": [
              "<Figure size 1300x500 with 2 Axes>"
            ],
            "image/svg+xml": "<?xml version=\"1.0\" encoding=\"utf-8\" standalone=\"no\"?>\n<!DOCTYPE svg PUBLIC \"-//W3C//DTD SVG 1.1//EN\"\n  \"http://www.w3.org/Graphics/SVG/1.1/DTD/svg11.dtd\">\n<svg xmlns:xlink=\"http://www.w3.org/1999/xlink\" width=\"777.445312pt\" height=\"323.39625pt\" viewBox=\"0 0 777.445312 323.39625\" xmlns=\"http://www.w3.org/2000/svg\" version=\"1.1\">\n <metadata>\n  <rdf:RDF xmlns:dc=\"http://purl.org/dc/elements/1.1/\" xmlns:cc=\"http://creativecommons.org/ns#\" xmlns:rdf=\"http://www.w3.org/1999/02/22-rdf-syntax-ns#\">\n   <cc:Work>\n    <dc:type rdf:resource=\"http://purl.org/dc/dcmitype/StillImage\"/>\n    <dc:date>2023-04-20T16:37:42.701992</dc:date>\n    <dc:format>image/svg+xml</dc:format>\n    <dc:creator>\n     <cc:Agent>\n      <dc:title>Matplotlib v3.7.1, https://matplotlib.org/</dc:title>\n     </cc:Agent>\n    </dc:creator>\n   </cc:Work>\n  </rdf:RDF>\n </metadata>\n <defs>\n  <style type=\"text/css\">*{stroke-linejoin: round; stroke-linecap: butt}</style>\n </defs>\n <g id=\"figure_1\">\n  <g id=\"patch_1\">\n   <path d=\"M 0 323.39625 \nL 777.445312 323.39625 \nL 777.445312 0 \nL 0 0 \nz\n\" style=\"fill: #ffffff\"/>\n  </g>\n  <g id=\"axes_1\">\n   <g id=\"patch_2\">\n    <path d=\"M 44.845313 299.518125 \nL 374.572585 299.518125 \nL 374.572585 22.318125 \nL 44.845313 22.318125 \nz\n\" style=\"fill: #ffffff\"/>\n   </g>\n   <g id=\"matplotlib.axis_1\">\n    <g id=\"xtick_1\">\n     <g id=\"line2d_1\">\n      <path d=\"M 59.832916 299.518125 \nL 59.832916 22.318125 \n\" clip-path=\"url(#p635f9a8d05)\" style=\"fill: none; stroke: #b0b0b0; stroke-width: 0.8; stroke-linecap: square\"/>\n     </g>\n     <g id=\"line2d_2\">\n      <defs>\n       <path id=\"m7eea020183\" d=\"M 0 0 \nL 0 3.5 \n\" style=\"stroke: #000000; stroke-width: 0.8\"/>\n      </defs>\n      <g>\n       <use xlink:href=\"#m7eea020183\" x=\"59.832916\" y=\"299.518125\" style=\"stroke: #000000; stroke-width: 0.8\"/>\n      </g>\n     </g>\n     <g id=\"text_1\">\n      <!-- 0 -->\n      <g transform=\"translate(56.651666 314.116563) scale(0.1 -0.1)\">\n       <defs>\n        <path id=\"DejaVuSans-30\" d=\"M 2034 4250 \nQ 1547 4250 1301 3770 \nQ 1056 3291 1056 2328 \nQ 1056 1369 1301 889 \nQ 1547 409 2034 409 \nQ 2525 409 2770 889 \nQ 3016 1369 3016 2328 \nQ 3016 3291 2770 3770 \nQ 2525 4250 2034 4250 \nz\nM 2034 4750 \nQ 2819 4750 3233 4129 \nQ 3647 3509 3647 2328 \nQ 3647 1150 3233 529 \nQ 2819 -91 2034 -91 \nQ 1250 -91 836 529 \nQ 422 1150 422 2328 \nQ 422 3509 836 4129 \nQ 1250 4750 2034 4750 \nz\n\" transform=\"scale(0.015625)\"/>\n       </defs>\n       <use xlink:href=\"#DejaVuSans-30\"/>\n      </g>\n     </g>\n    </g>\n    <g id=\"xtick_2\">\n     <g id=\"line2d_3\">\n      <path d=\"M 126.444486 299.518125 \nL 126.444486 22.318125 \n\" clip-path=\"url(#p635f9a8d05)\" style=\"fill: none; stroke: #b0b0b0; stroke-width: 0.8; stroke-linecap: square\"/>\n     </g>\n     <g id=\"line2d_4\">\n      <g>\n       <use xlink:href=\"#m7eea020183\" x=\"126.444486\" y=\"299.518125\" style=\"stroke: #000000; stroke-width: 0.8\"/>\n      </g>\n     </g>\n     <g id=\"text_2\">\n      <!-- 2 -->\n      <g transform=\"translate(123.263236 314.116563) scale(0.1 -0.1)\">\n       <defs>\n        <path id=\"DejaVuSans-32\" d=\"M 1228 531 \nL 3431 531 \nL 3431 0 \nL 469 0 \nL 469 531 \nQ 828 903 1448 1529 \nQ 2069 2156 2228 2338 \nQ 2531 2678 2651 2914 \nQ 2772 3150 2772 3378 \nQ 2772 3750 2511 3984 \nQ 2250 4219 1831 4219 \nQ 1534 4219 1204 4116 \nQ 875 4013 500 3803 \nL 500 4441 \nQ 881 4594 1212 4672 \nQ 1544 4750 1819 4750 \nQ 2544 4750 2975 4387 \nQ 3406 4025 3406 3419 \nQ 3406 3131 3298 2873 \nQ 3191 2616 2906 2266 \nQ 2828 2175 2409 1742 \nQ 1991 1309 1228 531 \nz\n\" transform=\"scale(0.015625)\"/>\n       </defs>\n       <use xlink:href=\"#DejaVuSans-32\"/>\n      </g>\n     </g>\n    </g>\n    <g id=\"xtick_3\">\n     <g id=\"line2d_5\">\n      <path d=\"M 193.056056 299.518125 \nL 193.056056 22.318125 \n\" clip-path=\"url(#p635f9a8d05)\" style=\"fill: none; stroke: #b0b0b0; stroke-width: 0.8; stroke-linecap: square\"/>\n     </g>\n     <g id=\"line2d_6\">\n      <g>\n       <use xlink:href=\"#m7eea020183\" x=\"193.056056\" y=\"299.518125\" style=\"stroke: #000000; stroke-width: 0.8\"/>\n      </g>\n     </g>\n     <g id=\"text_3\">\n      <!-- 4 -->\n      <g transform=\"translate(189.874806 314.116563) scale(0.1 -0.1)\">\n       <defs>\n        <path id=\"DejaVuSans-34\" d=\"M 2419 4116 \nL 825 1625 \nL 2419 1625 \nL 2419 4116 \nz\nM 2253 4666 \nL 3047 4666 \nL 3047 1625 \nL 3713 1625 \nL 3713 1100 \nL 3047 1100 \nL 3047 0 \nL 2419 0 \nL 2419 1100 \nL 313 1100 \nL 313 1709 \nL 2253 4666 \nz\n\" transform=\"scale(0.015625)\"/>\n       </defs>\n       <use xlink:href=\"#DejaVuSans-34\"/>\n      </g>\n     </g>\n    </g>\n    <g id=\"xtick_4\">\n     <g id=\"line2d_7\">\n      <path d=\"M 259.667627 299.518125 \nL 259.667627 22.318125 \n\" clip-path=\"url(#p635f9a8d05)\" style=\"fill: none; stroke: #b0b0b0; stroke-width: 0.8; stroke-linecap: square\"/>\n     </g>\n     <g id=\"line2d_8\">\n      <g>\n       <use xlink:href=\"#m7eea020183\" x=\"259.667627\" y=\"299.518125\" style=\"stroke: #000000; stroke-width: 0.8\"/>\n      </g>\n     </g>\n     <g id=\"text_4\">\n      <!-- 6 -->\n      <g transform=\"translate(256.486377 314.116563) scale(0.1 -0.1)\">\n       <defs>\n        <path id=\"DejaVuSans-36\" d=\"M 2113 2584 \nQ 1688 2584 1439 2293 \nQ 1191 2003 1191 1497 \nQ 1191 994 1439 701 \nQ 1688 409 2113 409 \nQ 2538 409 2786 701 \nQ 3034 994 3034 1497 \nQ 3034 2003 2786 2293 \nQ 2538 2584 2113 2584 \nz\nM 3366 4563 \nL 3366 3988 \nQ 3128 4100 2886 4159 \nQ 2644 4219 2406 4219 \nQ 1781 4219 1451 3797 \nQ 1122 3375 1075 2522 \nQ 1259 2794 1537 2939 \nQ 1816 3084 2150 3084 \nQ 2853 3084 3261 2657 \nQ 3669 2231 3669 1497 \nQ 3669 778 3244 343 \nQ 2819 -91 2113 -91 \nQ 1303 -91 875 529 \nQ 447 1150 447 2328 \nQ 447 3434 972 4092 \nQ 1497 4750 2381 4750 \nQ 2619 4750 2861 4703 \nQ 3103 4656 3366 4563 \nz\n\" transform=\"scale(0.015625)\"/>\n       </defs>\n       <use xlink:href=\"#DejaVuSans-36\"/>\n      </g>\n     </g>\n    </g>\n    <g id=\"xtick_5\">\n     <g id=\"line2d_9\">\n      <path d=\"M 326.279197 299.518125 \nL 326.279197 22.318125 \n\" clip-path=\"url(#p635f9a8d05)\" style=\"fill: none; stroke: #b0b0b0; stroke-width: 0.8; stroke-linecap: square\"/>\n     </g>\n     <g id=\"line2d_10\">\n      <g>\n       <use xlink:href=\"#m7eea020183\" x=\"326.279197\" y=\"299.518125\" style=\"stroke: #000000; stroke-width: 0.8\"/>\n      </g>\n     </g>\n     <g id=\"text_5\">\n      <!-- 8 -->\n      <g transform=\"translate(323.097947 314.116563) scale(0.1 -0.1)\">\n       <defs>\n        <path id=\"DejaVuSans-38\" d=\"M 2034 2216 \nQ 1584 2216 1326 1975 \nQ 1069 1734 1069 1313 \nQ 1069 891 1326 650 \nQ 1584 409 2034 409 \nQ 2484 409 2743 651 \nQ 3003 894 3003 1313 \nQ 3003 1734 2745 1975 \nQ 2488 2216 2034 2216 \nz\nM 1403 2484 \nQ 997 2584 770 2862 \nQ 544 3141 544 3541 \nQ 544 4100 942 4425 \nQ 1341 4750 2034 4750 \nQ 2731 4750 3128 4425 \nQ 3525 4100 3525 3541 \nQ 3525 3141 3298 2862 \nQ 3072 2584 2669 2484 \nQ 3125 2378 3379 2068 \nQ 3634 1759 3634 1313 \nQ 3634 634 3220 271 \nQ 2806 -91 2034 -91 \nQ 1263 -91 848 271 \nQ 434 634 434 1313 \nQ 434 1759 690 2068 \nQ 947 2378 1403 2484 \nz\nM 1172 3481 \nQ 1172 3119 1398 2916 \nQ 1625 2713 2034 2713 \nQ 2441 2713 2670 2916 \nQ 2900 3119 2900 3481 \nQ 2900 3844 2670 4047 \nQ 2441 4250 2034 4250 \nQ 1625 4250 1398 4047 \nQ 1172 3844 1172 3481 \nz\n\" transform=\"scale(0.015625)\"/>\n       </defs>\n       <use xlink:href=\"#DejaVuSans-38\"/>\n      </g>\n     </g>\n    </g>\n   </g>\n   <g id=\"matplotlib.axis_2\">\n    <g id=\"ytick_1\">\n     <g id=\"line2d_11\">\n      <path d=\"M 44.845313 261.718125 \nL 374.572585 261.718125 \n\" clip-path=\"url(#p635f9a8d05)\" style=\"fill: none; stroke: #b0b0b0; stroke-width: 0.8; stroke-linecap: square\"/>\n     </g>\n     <g id=\"line2d_12\">\n      <defs>\n       <path id=\"md60f13fa7c\" d=\"M 0 0 \nL -3.5 0 \n\" style=\"stroke: #000000; stroke-width: 0.8\"/>\n      </defs>\n      <g>\n       <use xlink:href=\"#md60f13fa7c\" x=\"44.845313\" y=\"261.718125\" style=\"stroke: #000000; stroke-width: 0.8\"/>\n      </g>\n     </g>\n     <g id=\"text_6\">\n      <!-- −0.04 -->\n      <g transform=\"translate(7.2 265.517344) scale(0.1 -0.1)\">\n       <defs>\n        <path id=\"DejaVuSans-2212\" d=\"M 678 2272 \nL 4684 2272 \nL 4684 1741 \nL 678 1741 \nL 678 2272 \nz\n\" transform=\"scale(0.015625)\"/>\n        <path id=\"DejaVuSans-2e\" d=\"M 684 794 \nL 1344 794 \nL 1344 0 \nL 684 0 \nL 684 794 \nz\n\" transform=\"scale(0.015625)\"/>\n       </defs>\n       <use xlink:href=\"#DejaVuSans-2212\"/>\n       <use xlink:href=\"#DejaVuSans-30\" x=\"83.789062\"/>\n       <use xlink:href=\"#DejaVuSans-2e\" x=\"147.412109\"/>\n       <use xlink:href=\"#DejaVuSans-30\" x=\"179.199219\"/>\n       <use xlink:href=\"#DejaVuSans-34\" x=\"242.822266\"/>\n      </g>\n     </g>\n    </g>\n    <g id=\"ytick_2\">\n     <g id=\"line2d_13\">\n      <path d=\"M 44.845313 211.318125 \nL 374.572585 211.318125 \n\" clip-path=\"url(#p635f9a8d05)\" style=\"fill: none; stroke: #b0b0b0; stroke-width: 0.8; stroke-linecap: square\"/>\n     </g>\n     <g id=\"line2d_14\">\n      <g>\n       <use xlink:href=\"#md60f13fa7c\" x=\"44.845313\" y=\"211.318125\" style=\"stroke: #000000; stroke-width: 0.8\"/>\n      </g>\n     </g>\n     <g id=\"text_7\">\n      <!-- −0.02 -->\n      <g transform=\"translate(7.2 215.117344) scale(0.1 -0.1)\">\n       <use xlink:href=\"#DejaVuSans-2212\"/>\n       <use xlink:href=\"#DejaVuSans-30\" x=\"83.789062\"/>\n       <use xlink:href=\"#DejaVuSans-2e\" x=\"147.412109\"/>\n       <use xlink:href=\"#DejaVuSans-30\" x=\"179.199219\"/>\n       <use xlink:href=\"#DejaVuSans-32\" x=\"242.822266\"/>\n      </g>\n     </g>\n    </g>\n    <g id=\"ytick_3\">\n     <g id=\"line2d_15\">\n      <path d=\"M 44.845313 160.918125 \nL 374.572585 160.918125 \n\" clip-path=\"url(#p635f9a8d05)\" style=\"fill: none; stroke: #b0b0b0; stroke-width: 0.8; stroke-linecap: square\"/>\n     </g>\n     <g id=\"line2d_16\">\n      <g>\n       <use xlink:href=\"#md60f13fa7c\" x=\"44.845313\" y=\"160.918125\" style=\"stroke: #000000; stroke-width: 0.8\"/>\n      </g>\n     </g>\n     <g id=\"text_8\">\n      <!-- 0.00 -->\n      <g transform=\"translate(15.579688 164.717344) scale(0.1 -0.1)\">\n       <use xlink:href=\"#DejaVuSans-30\"/>\n       <use xlink:href=\"#DejaVuSans-2e\" x=\"63.623047\"/>\n       <use xlink:href=\"#DejaVuSans-30\" x=\"95.410156\"/>\n       <use xlink:href=\"#DejaVuSans-30\" x=\"159.033203\"/>\n      </g>\n     </g>\n    </g>\n    <g id=\"ytick_4\">\n     <g id=\"line2d_17\">\n      <path d=\"M 44.845313 110.518125 \nL 374.572585 110.518125 \n\" clip-path=\"url(#p635f9a8d05)\" style=\"fill: none; stroke: #b0b0b0; stroke-width: 0.8; stroke-linecap: square\"/>\n     </g>\n     <g id=\"line2d_18\">\n      <g>\n       <use xlink:href=\"#md60f13fa7c\" x=\"44.845313\" y=\"110.518125\" style=\"stroke: #000000; stroke-width: 0.8\"/>\n      </g>\n     </g>\n     <g id=\"text_9\">\n      <!-- 0.02 -->\n      <g transform=\"translate(15.579688 114.317344) scale(0.1 -0.1)\">\n       <use xlink:href=\"#DejaVuSans-30\"/>\n       <use xlink:href=\"#DejaVuSans-2e\" x=\"63.623047\"/>\n       <use xlink:href=\"#DejaVuSans-30\" x=\"95.410156\"/>\n       <use xlink:href=\"#DejaVuSans-32\" x=\"159.033203\"/>\n      </g>\n     </g>\n    </g>\n    <g id=\"ytick_5\">\n     <g id=\"line2d_19\">\n      <path d=\"M 44.845313 60.118125 \nL 374.572585 60.118125 \n\" clip-path=\"url(#p635f9a8d05)\" style=\"fill: none; stroke: #b0b0b0; stroke-width: 0.8; stroke-linecap: square\"/>\n     </g>\n     <g id=\"line2d_20\">\n      <g>\n       <use xlink:href=\"#md60f13fa7c\" x=\"44.845313\" y=\"60.118125\" style=\"stroke: #000000; stroke-width: 0.8\"/>\n      </g>\n     </g>\n     <g id=\"text_10\">\n      <!-- 0.04 -->\n      <g transform=\"translate(15.579688 63.917344) scale(0.1 -0.1)\">\n       <use xlink:href=\"#DejaVuSans-30\"/>\n       <use xlink:href=\"#DejaVuSans-2e\" x=\"63.623047\"/>\n       <use xlink:href=\"#DejaVuSans-30\" x=\"95.410156\"/>\n       <use xlink:href=\"#DejaVuSans-34\" x=\"159.033203\"/>\n      </g>\n     </g>\n    </g>\n   </g>\n   <g id=\"line2d_21\">\n    <path d=\"M 59.832916 160.918125 \nL 93.138701 160.918125 \nL 126.444486 160.918125 \nL 159.750271 160.918125 \nL 193.056056 160.918125 \nL 226.361841 160.918125 \nL 259.667627 160.918125 \nL 292.973412 160.918125 \nL 326.279197 160.918125 \nL 359.584982 160.918125 \n\" clip-path=\"url(#p635f9a8d05)\" style=\"fill: none; stroke: #1f77b4; stroke-width: 1.5; stroke-linecap: square\"/>\n   </g>\n   <g id=\"line2d_22\">\n    <path d=\"M 59.832916 160.918125 \nL 93.138701 160.918125 \nL 126.444486 160.918125 \nL 159.750271 160.918125 \nL 193.056056 160.918125 \nL 226.361841 160.918125 \nL 259.667627 160.918125 \nL 292.973412 160.918125 \nL 326.279197 160.918125 \nL 359.584982 160.918125 \n\" clip-path=\"url(#p635f9a8d05)\" style=\"fill: none; stroke: #ff7f0e; stroke-width: 1.5; stroke-linecap: square\"/>\n   </g>\n   <g id=\"line2d_23\">\n    <path d=\"M 59.832916 160.918125 \nL 93.138701 160.918125 \nL 126.444486 160.918125 \nL 159.750271 160.918125 \nL 193.056056 160.918125 \nL 226.361841 160.918125 \nL 259.667627 160.918125 \nL 292.973412 160.918125 \nL 326.279197 160.918125 \nL 359.584982 160.918125 \n\" clip-path=\"url(#p635f9a8d05)\" style=\"fill: none; stroke: #2ca02c; stroke-width: 1.5; stroke-linecap: square\"/>\n   </g>\n   <g id=\"line2d_24\">\n    <path d=\"M 59.832916 160.918125 \nL 93.138701 160.918125 \nL 126.444486 160.918125 \nL 159.750271 160.918125 \nL 193.056056 160.918125 \nL 226.361841 160.918125 \nL 259.667627 160.918125 \nL 292.973412 160.918125 \nL 326.279197 160.918125 \nL 359.584982 160.918125 \n\" clip-path=\"url(#p635f9a8d05)\" style=\"fill: none; stroke: #d62728; stroke-width: 1.5; stroke-linecap: square\"/>\n   </g>\n   <g id=\"patch_3\">\n    <path d=\"M 44.845313 299.518125 \nL 44.845313 22.318125 \n\" style=\"fill: none; stroke: #000000; stroke-width: 0.8; stroke-linejoin: miter; stroke-linecap: square\"/>\n   </g>\n   <g id=\"patch_4\">\n    <path d=\"M 374.572585 299.518125 \nL 374.572585 22.318125 \n\" style=\"fill: none; stroke: #000000; stroke-width: 0.8; stroke-linejoin: miter; stroke-linecap: square\"/>\n   </g>\n   <g id=\"patch_5\">\n    <path d=\"M 44.845313 299.518125 \nL 374.572585 299.518125 \n\" style=\"fill: none; stroke: #000000; stroke-width: 0.8; stroke-linejoin: miter; stroke-linecap: square\"/>\n   </g>\n   <g id=\"patch_6\">\n    <path d=\"M 44.845313 22.318125 \nL 374.572585 22.318125 \n\" style=\"fill: none; stroke: #000000; stroke-width: 0.8; stroke-linejoin: miter; stroke-linecap: square\"/>\n   </g>\n   <g id=\"text_11\">\n    <!-- cat learning curves -->\n    <g transform=\"translate(152.152074 16.318125) scale(0.12 -0.12)\">\n     <defs>\n      <path id=\"DejaVuSans-63\" d=\"M 3122 3366 \nL 3122 2828 \nQ 2878 2963 2633 3030 \nQ 2388 3097 2138 3097 \nQ 1578 3097 1268 2742 \nQ 959 2388 959 1747 \nQ 959 1106 1268 751 \nQ 1578 397 2138 397 \nQ 2388 397 2633 464 \nQ 2878 531 3122 666 \nL 3122 134 \nQ 2881 22 2623 -34 \nQ 2366 -91 2075 -91 \nQ 1284 -91 818 406 \nQ 353 903 353 1747 \nQ 353 2603 823 3093 \nQ 1294 3584 2113 3584 \nQ 2378 3584 2631 3529 \nQ 2884 3475 3122 3366 \nz\n\" transform=\"scale(0.015625)\"/>\n      <path id=\"DejaVuSans-61\" d=\"M 2194 1759 \nQ 1497 1759 1228 1600 \nQ 959 1441 959 1056 \nQ 959 750 1161 570 \nQ 1363 391 1709 391 \nQ 2188 391 2477 730 \nQ 2766 1069 2766 1631 \nL 2766 1759 \nL 2194 1759 \nz\nM 3341 1997 \nL 3341 0 \nL 2766 0 \nL 2766 531 \nQ 2569 213 2275 61 \nQ 1981 -91 1556 -91 \nQ 1019 -91 701 211 \nQ 384 513 384 1019 \nQ 384 1609 779 1909 \nQ 1175 2209 1959 2209 \nL 2766 2209 \nL 2766 2266 \nQ 2766 2663 2505 2880 \nQ 2244 3097 1772 3097 \nQ 1472 3097 1187 3025 \nQ 903 2953 641 2809 \nL 641 3341 \nQ 956 3463 1253 3523 \nQ 1550 3584 1831 3584 \nQ 2591 3584 2966 3190 \nQ 3341 2797 3341 1997 \nz\n\" transform=\"scale(0.015625)\"/>\n      <path id=\"DejaVuSans-74\" d=\"M 1172 4494 \nL 1172 3500 \nL 2356 3500 \nL 2356 3053 \nL 1172 3053 \nL 1172 1153 \nQ 1172 725 1289 603 \nQ 1406 481 1766 481 \nL 2356 481 \nL 2356 0 \nL 1766 0 \nQ 1100 0 847 248 \nQ 594 497 594 1153 \nL 594 3053 \nL 172 3053 \nL 172 3500 \nL 594 3500 \nL 594 4494 \nL 1172 4494 \nz\n\" transform=\"scale(0.015625)\"/>\n      <path id=\"DejaVuSans-20\" transform=\"scale(0.015625)\"/>\n      <path id=\"DejaVuSans-6c\" d=\"M 603 4863 \nL 1178 4863 \nL 1178 0 \nL 603 0 \nL 603 4863 \nz\n\" transform=\"scale(0.015625)\"/>\n      <path id=\"DejaVuSans-65\" d=\"M 3597 1894 \nL 3597 1613 \nL 953 1613 \nQ 991 1019 1311 708 \nQ 1631 397 2203 397 \nQ 2534 397 2845 478 \nQ 3156 559 3463 722 \nL 3463 178 \nQ 3153 47 2828 -22 \nQ 2503 -91 2169 -91 \nQ 1331 -91 842 396 \nQ 353 884 353 1716 \nQ 353 2575 817 3079 \nQ 1281 3584 2069 3584 \nQ 2775 3584 3186 3129 \nQ 3597 2675 3597 1894 \nz\nM 3022 2063 \nQ 3016 2534 2758 2815 \nQ 2500 3097 2075 3097 \nQ 1594 3097 1305 2825 \nQ 1016 2553 972 2059 \nL 3022 2063 \nz\n\" transform=\"scale(0.015625)\"/>\n      <path id=\"DejaVuSans-72\" d=\"M 2631 2963 \nQ 2534 3019 2420 3045 \nQ 2306 3072 2169 3072 \nQ 1681 3072 1420 2755 \nQ 1159 2438 1159 1844 \nL 1159 0 \nL 581 0 \nL 581 3500 \nL 1159 3500 \nL 1159 2956 \nQ 1341 3275 1631 3429 \nQ 1922 3584 2338 3584 \nQ 2397 3584 2469 3576 \nQ 2541 3569 2628 3553 \nL 2631 2963 \nz\n\" transform=\"scale(0.015625)\"/>\n      <path id=\"DejaVuSans-6e\" d=\"M 3513 2113 \nL 3513 0 \nL 2938 0 \nL 2938 2094 \nQ 2938 2591 2744 2837 \nQ 2550 3084 2163 3084 \nQ 1697 3084 1428 2787 \nQ 1159 2491 1159 1978 \nL 1159 0 \nL 581 0 \nL 581 3500 \nL 1159 3500 \nL 1159 2956 \nQ 1366 3272 1645 3428 \nQ 1925 3584 2291 3584 \nQ 2894 3584 3203 3211 \nQ 3513 2838 3513 2113 \nz\n\" transform=\"scale(0.015625)\"/>\n      <path id=\"DejaVuSans-69\" d=\"M 603 3500 \nL 1178 3500 \nL 1178 0 \nL 603 0 \nL 603 3500 \nz\nM 603 4863 \nL 1178 4863 \nL 1178 4134 \nL 603 4134 \nL 603 4863 \nz\n\" transform=\"scale(0.015625)\"/>\n      <path id=\"DejaVuSans-67\" d=\"M 2906 1791 \nQ 2906 2416 2648 2759 \nQ 2391 3103 1925 3103 \nQ 1463 3103 1205 2759 \nQ 947 2416 947 1791 \nQ 947 1169 1205 825 \nQ 1463 481 1925 481 \nQ 2391 481 2648 825 \nQ 2906 1169 2906 1791 \nz\nM 3481 434 \nQ 3481 -459 3084 -895 \nQ 2688 -1331 1869 -1331 \nQ 1566 -1331 1297 -1286 \nQ 1028 -1241 775 -1147 \nL 775 -588 \nQ 1028 -725 1275 -790 \nQ 1522 -856 1778 -856 \nQ 2344 -856 2625 -561 \nQ 2906 -266 2906 331 \nL 2906 616 \nQ 2728 306 2450 153 \nQ 2172 0 1784 0 \nQ 1141 0 747 490 \nQ 353 981 353 1791 \nQ 353 2603 747 3093 \nQ 1141 3584 1784 3584 \nQ 2172 3584 2450 3431 \nQ 2728 3278 2906 2969 \nL 2906 3500 \nL 3481 3500 \nL 3481 434 \nz\n\" transform=\"scale(0.015625)\"/>\n      <path id=\"DejaVuSans-75\" d=\"M 544 1381 \nL 544 3500 \nL 1119 3500 \nL 1119 1403 \nQ 1119 906 1312 657 \nQ 1506 409 1894 409 \nQ 2359 409 2629 706 \nQ 2900 1003 2900 1516 \nL 2900 3500 \nL 3475 3500 \nL 3475 0 \nL 2900 0 \nL 2900 538 \nQ 2691 219 2414 64 \nQ 2138 -91 1772 -91 \nQ 1169 -91 856 284 \nQ 544 659 544 1381 \nz\nM 1991 3584 \nL 1991 3584 \nz\n\" transform=\"scale(0.015625)\"/>\n      <path id=\"DejaVuSans-76\" d=\"M 191 3500 \nL 800 3500 \nL 1894 563 \nL 2988 3500 \nL 3597 3500 \nL 2284 0 \nL 1503 0 \nL 191 3500 \nz\n\" transform=\"scale(0.015625)\"/>\n      <path id=\"DejaVuSans-73\" d=\"M 2834 3397 \nL 2834 2853 \nQ 2591 2978 2328 3040 \nQ 2066 3103 1784 3103 \nQ 1356 3103 1142 2972 \nQ 928 2841 928 2578 \nQ 928 2378 1081 2264 \nQ 1234 2150 1697 2047 \nL 1894 2003 \nQ 2506 1872 2764 1633 \nQ 3022 1394 3022 966 \nQ 3022 478 2636 193 \nQ 2250 -91 1575 -91 \nQ 1294 -91 989 -36 \nQ 684 19 347 128 \nL 347 722 \nQ 666 556 975 473 \nQ 1284 391 1588 391 \nQ 1994 391 2212 530 \nQ 2431 669 2431 922 \nQ 2431 1156 2273 1281 \nQ 2116 1406 1581 1522 \nL 1381 1569 \nQ 847 1681 609 1914 \nQ 372 2147 372 2553 \nQ 372 3047 722 3315 \nQ 1072 3584 1716 3584 \nQ 2034 3584 2315 3537 \nQ 2597 3491 2834 3397 \nz\n\" transform=\"scale(0.015625)\"/>\n     </defs>\n     <use xlink:href=\"#DejaVuSans-63\"/>\n     <use xlink:href=\"#DejaVuSans-61\" x=\"54.980469\"/>\n     <use xlink:href=\"#DejaVuSans-74\" x=\"116.259766\"/>\n     <use xlink:href=\"#DejaVuSans-20\" x=\"155.46875\"/>\n     <use xlink:href=\"#DejaVuSans-6c\" x=\"187.255859\"/>\n     <use xlink:href=\"#DejaVuSans-65\" x=\"215.039062\"/>\n     <use xlink:href=\"#DejaVuSans-61\" x=\"276.5625\"/>\n     <use xlink:href=\"#DejaVuSans-72\" x=\"337.841797\"/>\n     <use xlink:href=\"#DejaVuSans-6e\" x=\"377.205078\"/>\n     <use xlink:href=\"#DejaVuSans-69\" x=\"440.583984\"/>\n     <use xlink:href=\"#DejaVuSans-6e\" x=\"468.367188\"/>\n     <use xlink:href=\"#DejaVuSans-67\" x=\"531.746094\"/>\n     <use xlink:href=\"#DejaVuSans-20\" x=\"595.222656\"/>\n     <use xlink:href=\"#DejaVuSans-63\" x=\"627.009766\"/>\n     <use xlink:href=\"#DejaVuSans-75\" x=\"681.990234\"/>\n     <use xlink:href=\"#DejaVuSans-72\" x=\"745.369141\"/>\n     <use xlink:href=\"#DejaVuSans-76\" x=\"786.482422\"/>\n     <use xlink:href=\"#DejaVuSans-65\" x=\"845.662109\"/>\n     <use xlink:href=\"#DejaVuSans-73\" x=\"907.185547\"/>\n    </g>\n   </g>\n   <g id=\"legend_1\">\n    <g id=\"patch_7\">\n     <path d=\"M 275.885085 90.143125 \nL 367.572585 90.143125 \nQ 369.572585 90.143125 369.572585 88.143125 \nL 369.572585 29.318125 \nQ 369.572585 27.318125 367.572585 27.318125 \nL 275.885085 27.318125 \nQ 273.885085 27.318125 273.885085 29.318125 \nL 273.885085 88.143125 \nQ 273.885085 90.143125 275.885085 90.143125 \nz\n\" style=\"fill: #ffffff; opacity: 0.8; stroke: #cccccc; stroke-linejoin: miter\"/>\n    </g>\n    <g id=\"line2d_25\">\n     <path d=\"M 277.885085 35.416563 \nL 287.885085 35.416563 \nL 297.885085 35.416563 \n\" style=\"fill: none; stroke: #1f77b4; stroke-width: 1.5; stroke-linecap: square\"/>\n    </g>\n    <g id=\"text_12\">\n     <!-- cat_acc -->\n     <g transform=\"translate(305.885085 38.916563) scale(0.1 -0.1)\">\n      <defs>\n       <path id=\"DejaVuSans-5f\" d=\"M 3263 -1063 \nL 3263 -1509 \nL -63 -1509 \nL -63 -1063 \nL 3263 -1063 \nz\n\" transform=\"scale(0.015625)\"/>\n      </defs>\n      <use xlink:href=\"#DejaVuSans-63\"/>\n      <use xlink:href=\"#DejaVuSans-61\" x=\"54.980469\"/>\n      <use xlink:href=\"#DejaVuSans-74\" x=\"116.259766\"/>\n      <use xlink:href=\"#DejaVuSans-5f\" x=\"155.46875\"/>\n      <use xlink:href=\"#DejaVuSans-61\" x=\"205.46875\"/>\n      <use xlink:href=\"#DejaVuSans-63\" x=\"266.748047\"/>\n      <use xlink:href=\"#DejaVuSans-63\" x=\"321.728516\"/>\n     </g>\n    </g>\n    <g id=\"line2d_26\">\n     <path d=\"M 277.885085 50.372813 \nL 287.885085 50.372813 \nL 297.885085 50.372813 \n\" style=\"fill: none; stroke: #ff7f0e; stroke-width: 1.5; stroke-linecap: square\"/>\n    </g>\n    <g id=\"text_13\">\n     <!-- val_cat_acc -->\n     <g transform=\"translate(305.885085 53.872813) scale(0.1 -0.1)\">\n      <use xlink:href=\"#DejaVuSans-76\"/>\n      <use xlink:href=\"#DejaVuSans-61\" x=\"59.179688\"/>\n      <use xlink:href=\"#DejaVuSans-6c\" x=\"120.458984\"/>\n      <use xlink:href=\"#DejaVuSans-5f\" x=\"148.242188\"/>\n      <use xlink:href=\"#DejaVuSans-63\" x=\"198.242188\"/>\n      <use xlink:href=\"#DejaVuSans-61\" x=\"253.222656\"/>\n      <use xlink:href=\"#DejaVuSans-74\" x=\"314.501953\"/>\n      <use xlink:href=\"#DejaVuSans-5f\" x=\"353.710938\"/>\n      <use xlink:href=\"#DejaVuSans-61\" x=\"403.710938\"/>\n      <use xlink:href=\"#DejaVuSans-63\" x=\"464.990234\"/>\n      <use xlink:href=\"#DejaVuSans-63\" x=\"519.970703\"/>\n     </g>\n    </g>\n    <g id=\"line2d_27\">\n     <path d=\"M 277.885085 65.329063 \nL 287.885085 65.329063 \nL 297.885085 65.329063 \n\" style=\"fill: none; stroke: #2ca02c; stroke-width: 1.5; stroke-linecap: square\"/>\n    </g>\n    <g id=\"text_14\">\n     <!-- cat_loss -->\n     <g transform=\"translate(305.885085 68.829063) scale(0.1 -0.1)\">\n      <defs>\n       <path id=\"DejaVuSans-6f\" d=\"M 1959 3097 \nQ 1497 3097 1228 2736 \nQ 959 2375 959 1747 \nQ 959 1119 1226 758 \nQ 1494 397 1959 397 \nQ 2419 397 2687 759 \nQ 2956 1122 2956 1747 \nQ 2956 2369 2687 2733 \nQ 2419 3097 1959 3097 \nz\nM 1959 3584 \nQ 2709 3584 3137 3096 \nQ 3566 2609 3566 1747 \nQ 3566 888 3137 398 \nQ 2709 -91 1959 -91 \nQ 1206 -91 779 398 \nQ 353 888 353 1747 \nQ 353 2609 779 3096 \nQ 1206 3584 1959 3584 \nz\n\" transform=\"scale(0.015625)\"/>\n      </defs>\n      <use xlink:href=\"#DejaVuSans-63\"/>\n      <use xlink:href=\"#DejaVuSans-61\" x=\"54.980469\"/>\n      <use xlink:href=\"#DejaVuSans-74\" x=\"116.259766\"/>\n      <use xlink:href=\"#DejaVuSans-5f\" x=\"155.46875\"/>\n      <use xlink:href=\"#DejaVuSans-6c\" x=\"205.46875\"/>\n      <use xlink:href=\"#DejaVuSans-6f\" x=\"233.251953\"/>\n      <use xlink:href=\"#DejaVuSans-73\" x=\"294.433594\"/>\n      <use xlink:href=\"#DejaVuSans-73\" x=\"346.533203\"/>\n     </g>\n    </g>\n    <g id=\"line2d_28\">\n     <path d=\"M 277.885085 80.285313 \nL 287.885085 80.285313 \nL 297.885085 80.285313 \n\" style=\"fill: none; stroke: #d62728; stroke-width: 1.5; stroke-linecap: square\"/>\n    </g>\n    <g id=\"text_15\">\n     <!-- val_cat_loss -->\n     <g transform=\"translate(305.885085 83.785313) scale(0.1 -0.1)\">\n      <use xlink:href=\"#DejaVuSans-76\"/>\n      <use xlink:href=\"#DejaVuSans-61\" x=\"59.179688\"/>\n      <use xlink:href=\"#DejaVuSans-6c\" x=\"120.458984\"/>\n      <use xlink:href=\"#DejaVuSans-5f\" x=\"148.242188\"/>\n      <use xlink:href=\"#DejaVuSans-63\" x=\"198.242188\"/>\n      <use xlink:href=\"#DejaVuSans-61\" x=\"253.222656\"/>\n      <use xlink:href=\"#DejaVuSans-74\" x=\"314.501953\"/>\n      <use xlink:href=\"#DejaVuSans-5f\" x=\"353.710938\"/>\n      <use xlink:href=\"#DejaVuSans-6c\" x=\"403.710938\"/>\n      <use xlink:href=\"#DejaVuSans-6f\" x=\"431.494141\"/>\n      <use xlink:href=\"#DejaVuSans-73\" x=\"492.675781\"/>\n      <use xlink:href=\"#DejaVuSans-73\" x=\"544.775391\"/>\n     </g>\n    </g>\n   </g>\n  </g>\n  <g id=\"axes_2\">\n   <g id=\"patch_8\">\n    <path d=\"M 440.51804 299.518125 \nL 770.245312 299.518125 \nL 770.245312 22.318125 \nL 440.51804 22.318125 \nz\n\" style=\"fill: #ffffff\"/>\n   </g>\n   <g id=\"matplotlib.axis_3\">\n    <g id=\"xtick_6\">\n     <g id=\"line2d_29\">\n      <path d=\"M 455.505643 299.518125 \nL 455.505643 22.318125 \n\" clip-path=\"url(#p58236f346e)\" style=\"fill: none; stroke: #b0b0b0; stroke-width: 0.8; stroke-linecap: square\"/>\n     </g>\n     <g id=\"line2d_30\">\n      <g>\n       <use xlink:href=\"#m7eea020183\" x=\"455.505643\" y=\"299.518125\" style=\"stroke: #000000; stroke-width: 0.8\"/>\n      </g>\n     </g>\n     <g id=\"text_16\">\n      <!-- 0 -->\n      <g transform=\"translate(452.324393 314.116563) scale(0.1 -0.1)\">\n       <use xlink:href=\"#DejaVuSans-30\"/>\n      </g>\n     </g>\n    </g>\n    <g id=\"xtick_7\">\n     <g id=\"line2d_31\">\n      <path d=\"M 522.117213 299.518125 \nL 522.117213 22.318125 \n\" clip-path=\"url(#p58236f346e)\" style=\"fill: none; stroke: #b0b0b0; stroke-width: 0.8; stroke-linecap: square\"/>\n     </g>\n     <g id=\"line2d_32\">\n      <g>\n       <use xlink:href=\"#m7eea020183\" x=\"522.117213\" y=\"299.518125\" style=\"stroke: #000000; stroke-width: 0.8\"/>\n      </g>\n     </g>\n     <g id=\"text_17\">\n      <!-- 2 -->\n      <g transform=\"translate(518.935963 314.116563) scale(0.1 -0.1)\">\n       <use xlink:href=\"#DejaVuSans-32\"/>\n      </g>\n     </g>\n    </g>\n    <g id=\"xtick_8\">\n     <g id=\"line2d_33\">\n      <path d=\"M 588.728784 299.518125 \nL 588.728784 22.318125 \n\" clip-path=\"url(#p58236f346e)\" style=\"fill: none; stroke: #b0b0b0; stroke-width: 0.8; stroke-linecap: square\"/>\n     </g>\n     <g id=\"line2d_34\">\n      <g>\n       <use xlink:href=\"#m7eea020183\" x=\"588.728784\" y=\"299.518125\" style=\"stroke: #000000; stroke-width: 0.8\"/>\n      </g>\n     </g>\n     <g id=\"text_18\">\n      <!-- 4 -->\n      <g transform=\"translate(585.547534 314.116563) scale(0.1 -0.1)\">\n       <use xlink:href=\"#DejaVuSans-34\"/>\n      </g>\n     </g>\n    </g>\n    <g id=\"xtick_9\">\n     <g id=\"line2d_35\">\n      <path d=\"M 655.340354 299.518125 \nL 655.340354 22.318125 \n\" clip-path=\"url(#p58236f346e)\" style=\"fill: none; stroke: #b0b0b0; stroke-width: 0.8; stroke-linecap: square\"/>\n     </g>\n     <g id=\"line2d_36\">\n      <g>\n       <use xlink:href=\"#m7eea020183\" x=\"655.340354\" y=\"299.518125\" style=\"stroke: #000000; stroke-width: 0.8\"/>\n      </g>\n     </g>\n     <g id=\"text_19\">\n      <!-- 6 -->\n      <g transform=\"translate(652.159104 314.116563) scale(0.1 -0.1)\">\n       <use xlink:href=\"#DejaVuSans-36\"/>\n      </g>\n     </g>\n    </g>\n    <g id=\"xtick_10\">\n     <g id=\"line2d_37\">\n      <path d=\"M 721.951924 299.518125 \nL 721.951924 22.318125 \n\" clip-path=\"url(#p58236f346e)\" style=\"fill: none; stroke: #b0b0b0; stroke-width: 0.8; stroke-linecap: square\"/>\n     </g>\n     <g id=\"line2d_38\">\n      <g>\n       <use xlink:href=\"#m7eea020183\" x=\"721.951924\" y=\"299.518125\" style=\"stroke: #000000; stroke-width: 0.8\"/>\n      </g>\n     </g>\n     <g id=\"text_20\">\n      <!-- 8 -->\n      <g transform=\"translate(718.770674 314.116563) scale(0.1 -0.1)\">\n       <use xlink:href=\"#DejaVuSans-38\"/>\n      </g>\n     </g>\n    </g>\n   </g>\n   <g id=\"matplotlib.axis_4\">\n    <g id=\"ytick_6\">\n     <g id=\"line2d_39\">\n      <path d=\"M 440.51804 261.718125 \nL 770.245312 261.718125 \n\" clip-path=\"url(#p58236f346e)\" style=\"fill: none; stroke: #b0b0b0; stroke-width: 0.8; stroke-linecap: square\"/>\n     </g>\n     <g id=\"line2d_40\">\n      <g>\n       <use xlink:href=\"#md60f13fa7c\" x=\"440.51804\" y=\"261.718125\" style=\"stroke: #000000; stroke-width: 0.8\"/>\n      </g>\n     </g>\n     <g id=\"text_21\">\n      <!-- −0.04 -->\n      <g transform=\"translate(402.872727 265.517344) scale(0.1 -0.1)\">\n       <use xlink:href=\"#DejaVuSans-2212\"/>\n       <use xlink:href=\"#DejaVuSans-30\" x=\"83.789062\"/>\n       <use xlink:href=\"#DejaVuSans-2e\" x=\"147.412109\"/>\n       <use xlink:href=\"#DejaVuSans-30\" x=\"179.199219\"/>\n       <use xlink:href=\"#DejaVuSans-34\" x=\"242.822266\"/>\n      </g>\n     </g>\n    </g>\n    <g id=\"ytick_7\">\n     <g id=\"line2d_41\">\n      <path d=\"M 440.51804 211.318125 \nL 770.245312 211.318125 \n\" clip-path=\"url(#p58236f346e)\" style=\"fill: none; stroke: #b0b0b0; stroke-width: 0.8; stroke-linecap: square\"/>\n     </g>\n     <g id=\"line2d_42\">\n      <g>\n       <use xlink:href=\"#md60f13fa7c\" x=\"440.51804\" y=\"211.318125\" style=\"stroke: #000000; stroke-width: 0.8\"/>\n      </g>\n     </g>\n     <g id=\"text_22\">\n      <!-- −0.02 -->\n      <g transform=\"translate(402.872727 215.117344) scale(0.1 -0.1)\">\n       <use xlink:href=\"#DejaVuSans-2212\"/>\n       <use xlink:href=\"#DejaVuSans-30\" x=\"83.789062\"/>\n       <use xlink:href=\"#DejaVuSans-2e\" x=\"147.412109\"/>\n       <use xlink:href=\"#DejaVuSans-30\" x=\"179.199219\"/>\n       <use xlink:href=\"#DejaVuSans-32\" x=\"242.822266\"/>\n      </g>\n     </g>\n    </g>\n    <g id=\"ytick_8\">\n     <g id=\"line2d_43\">\n      <path d=\"M 440.51804 160.918125 \nL 770.245312 160.918125 \n\" clip-path=\"url(#p58236f346e)\" style=\"fill: none; stroke: #b0b0b0; stroke-width: 0.8; stroke-linecap: square\"/>\n     </g>\n     <g id=\"line2d_44\">\n      <g>\n       <use xlink:href=\"#md60f13fa7c\" x=\"440.51804\" y=\"160.918125\" style=\"stroke: #000000; stroke-width: 0.8\"/>\n      </g>\n     </g>\n     <g id=\"text_23\">\n      <!-- 0.00 -->\n      <g transform=\"translate(411.252415 164.717344) scale(0.1 -0.1)\">\n       <use xlink:href=\"#DejaVuSans-30\"/>\n       <use xlink:href=\"#DejaVuSans-2e\" x=\"63.623047\"/>\n       <use xlink:href=\"#DejaVuSans-30\" x=\"95.410156\"/>\n       <use xlink:href=\"#DejaVuSans-30\" x=\"159.033203\"/>\n      </g>\n     </g>\n    </g>\n    <g id=\"ytick_9\">\n     <g id=\"line2d_45\">\n      <path d=\"M 440.51804 110.518125 \nL 770.245312 110.518125 \n\" clip-path=\"url(#p58236f346e)\" style=\"fill: none; stroke: #b0b0b0; stroke-width: 0.8; stroke-linecap: square\"/>\n     </g>\n     <g id=\"line2d_46\">\n      <g>\n       <use xlink:href=\"#md60f13fa7c\" x=\"440.51804\" y=\"110.518125\" style=\"stroke: #000000; stroke-width: 0.8\"/>\n      </g>\n     </g>\n     <g id=\"text_24\">\n      <!-- 0.02 -->\n      <g transform=\"translate(411.252415 114.317344) scale(0.1 -0.1)\">\n       <use xlink:href=\"#DejaVuSans-30\"/>\n       <use xlink:href=\"#DejaVuSans-2e\" x=\"63.623047\"/>\n       <use xlink:href=\"#DejaVuSans-30\" x=\"95.410156\"/>\n       <use xlink:href=\"#DejaVuSans-32\" x=\"159.033203\"/>\n      </g>\n     </g>\n    </g>\n    <g id=\"ytick_10\">\n     <g id=\"line2d_47\">\n      <path d=\"M 440.51804 60.118125 \nL 770.245312 60.118125 \n\" clip-path=\"url(#p58236f346e)\" style=\"fill: none; stroke: #b0b0b0; stroke-width: 0.8; stroke-linecap: square\"/>\n     </g>\n     <g id=\"line2d_48\">\n      <g>\n       <use xlink:href=\"#md60f13fa7c\" x=\"440.51804\" y=\"60.118125\" style=\"stroke: #000000; stroke-width: 0.8\"/>\n      </g>\n     </g>\n     <g id=\"text_25\">\n      <!-- 0.04 -->\n      <g transform=\"translate(411.252415 63.917344) scale(0.1 -0.1)\">\n       <use xlink:href=\"#DejaVuSans-30\"/>\n       <use xlink:href=\"#DejaVuSans-2e\" x=\"63.623047\"/>\n       <use xlink:href=\"#DejaVuSans-30\" x=\"95.410156\"/>\n       <use xlink:href=\"#DejaVuSans-34\" x=\"159.033203\"/>\n      </g>\n     </g>\n    </g>\n   </g>\n   <g id=\"line2d_49\">\n    <path d=\"M 455.505643 160.918125 \nL 488.811428 160.918125 \nL 522.117213 160.918125 \nL 555.422998 160.918125 \nL 588.728784 160.918125 \nL 622.034569 160.918125 \nL 655.340354 160.918125 \nL 688.646139 160.918125 \nL 721.951924 160.918125 \nL 755.257709 160.918125 \n\" clip-path=\"url(#p58236f346e)\" style=\"fill: none; stroke: #1f77b4; stroke-width: 1.5; stroke-linecap: square\"/>\n   </g>\n   <g id=\"line2d_50\">\n    <path d=\"M 455.505643 160.918125 \nL 488.811428 160.918125 \nL 522.117213 160.918125 \nL 555.422998 160.918125 \nL 588.728784 160.918125 \nL 622.034569 160.918125 \nL 655.340354 160.918125 \nL 688.646139 160.918125 \nL 721.951924 160.918125 \nL 755.257709 160.918125 \n\" clip-path=\"url(#p58236f346e)\" style=\"fill: none; stroke: #ff7f0e; stroke-width: 1.5; stroke-linecap: square\"/>\n   </g>\n   <g id=\"line2d_51\">\n    <path d=\"M 455.505643 160.918125 \nL 488.811428 160.918125 \nL 522.117213 160.918125 \nL 555.422998 160.918125 \nL 588.728784 160.918125 \nL 622.034569 160.918125 \nL 655.340354 160.918125 \nL 688.646139 160.918125 \nL 721.951924 160.918125 \nL 755.257709 160.918125 \n\" clip-path=\"url(#p58236f346e)\" style=\"fill: none; stroke: #2ca02c; stroke-width: 1.5; stroke-linecap: square\"/>\n   </g>\n   <g id=\"line2d_52\">\n    <path d=\"M 455.505643 160.918125 \nL 488.811428 160.918125 \nL 522.117213 160.918125 \nL 555.422998 160.918125 \nL 588.728784 160.918125 \nL 622.034569 160.918125 \nL 655.340354 160.918125 \nL 688.646139 160.918125 \nL 721.951924 160.918125 \nL 755.257709 160.918125 \n\" clip-path=\"url(#p58236f346e)\" style=\"fill: none; stroke: #d62728; stroke-width: 1.5; stroke-linecap: square\"/>\n   </g>\n   <g id=\"patch_9\">\n    <path d=\"M 440.51804 299.518125 \nL 440.51804 22.318125 \n\" style=\"fill: none; stroke: #000000; stroke-width: 0.8; stroke-linejoin: miter; stroke-linecap: square\"/>\n   </g>\n   <g id=\"patch_10\">\n    <path d=\"M 770.245312 299.518125 \nL 770.245312 22.318125 \n\" style=\"fill: none; stroke: #000000; stroke-width: 0.8; stroke-linejoin: miter; stroke-linecap: square\"/>\n   </g>\n   <g id=\"patch_11\">\n    <path d=\"M 440.51804 299.518125 \nL 770.245312 299.518125 \n\" style=\"fill: none; stroke: #000000; stroke-width: 0.8; stroke-linejoin: miter; stroke-linecap: square\"/>\n   </g>\n   <g id=\"patch_12\">\n    <path d=\"M 440.51804 22.318125 \nL 770.245312 22.318125 \n\" style=\"fill: none; stroke: #000000; stroke-width: 0.8; stroke-linejoin: miter; stroke-linecap: square\"/>\n   </g>\n   <g id=\"text_26\">\n    <!-- col learning curves -->\n    <g transform=\"translate(548.515739 16.318125) scale(0.12 -0.12)\">\n     <use xlink:href=\"#DejaVuSans-63\"/>\n     <use xlink:href=\"#DejaVuSans-6f\" x=\"54.980469\"/>\n     <use xlink:href=\"#DejaVuSans-6c\" x=\"116.162109\"/>\n     <use xlink:href=\"#DejaVuSans-20\" x=\"143.945312\"/>\n     <use xlink:href=\"#DejaVuSans-6c\" x=\"175.732422\"/>\n     <use xlink:href=\"#DejaVuSans-65\" x=\"203.515625\"/>\n     <use xlink:href=\"#DejaVuSans-61\" x=\"265.039062\"/>\n     <use xlink:href=\"#DejaVuSans-72\" x=\"326.318359\"/>\n     <use xlink:href=\"#DejaVuSans-6e\" x=\"365.681641\"/>\n     <use xlink:href=\"#DejaVuSans-69\" x=\"429.060547\"/>\n     <use xlink:href=\"#DejaVuSans-6e\" x=\"456.84375\"/>\n     <use xlink:href=\"#DejaVuSans-67\" x=\"520.222656\"/>\n     <use xlink:href=\"#DejaVuSans-20\" x=\"583.699219\"/>\n     <use xlink:href=\"#DejaVuSans-63\" x=\"615.486328\"/>\n     <use xlink:href=\"#DejaVuSans-75\" x=\"670.466797\"/>\n     <use xlink:href=\"#DejaVuSans-72\" x=\"733.845703\"/>\n     <use xlink:href=\"#DejaVuSans-76\" x=\"774.958984\"/>\n     <use xlink:href=\"#DejaVuSans-65\" x=\"834.138672\"/>\n     <use xlink:href=\"#DejaVuSans-73\" x=\"895.662109\"/>\n    </g>\n   </g>\n   <g id=\"legend_2\">\n    <g id=\"patch_13\">\n     <path d=\"M 672.709375 90.143125 \nL 763.245312 90.143125 \nQ 765.245312 90.143125 765.245312 88.143125 \nL 765.245312 29.318125 \nQ 765.245312 27.318125 763.245312 27.318125 \nL 672.709375 27.318125 \nQ 670.709375 27.318125 670.709375 29.318125 \nL 670.709375 88.143125 \nQ 670.709375 90.143125 672.709375 90.143125 \nz\n\" style=\"fill: #ffffff; opacity: 0.8; stroke: #cccccc; stroke-linejoin: miter\"/>\n    </g>\n    <g id=\"line2d_53\">\n     <path d=\"M 674.709375 35.416563 \nL 684.709375 35.416563 \nL 694.709375 35.416563 \n\" style=\"fill: none; stroke: #1f77b4; stroke-width: 1.5; stroke-linecap: square\"/>\n    </g>\n    <g id=\"text_27\">\n     <!-- col_acc -->\n     <g transform=\"translate(702.709375 38.916563) scale(0.1 -0.1)\">\n      <use xlink:href=\"#DejaVuSans-63\"/>\n      <use xlink:href=\"#DejaVuSans-6f\" x=\"54.980469\"/>\n      <use xlink:href=\"#DejaVuSans-6c\" x=\"116.162109\"/>\n      <use xlink:href=\"#DejaVuSans-5f\" x=\"143.945312\"/>\n      <use xlink:href=\"#DejaVuSans-61\" x=\"193.945312\"/>\n      <use xlink:href=\"#DejaVuSans-63\" x=\"255.224609\"/>\n      <use xlink:href=\"#DejaVuSans-63\" x=\"310.205078\"/>\n     </g>\n    </g>\n    <g id=\"line2d_54\">\n     <path d=\"M 674.709375 50.372813 \nL 684.709375 50.372813 \nL 694.709375 50.372813 \n\" style=\"fill: none; stroke: #ff7f0e; stroke-width: 1.5; stroke-linecap: square\"/>\n    </g>\n    <g id=\"text_28\">\n     <!-- val_col_acc -->\n     <g transform=\"translate(702.709375 53.872813) scale(0.1 -0.1)\">\n      <use xlink:href=\"#DejaVuSans-76\"/>\n      <use xlink:href=\"#DejaVuSans-61\" x=\"59.179688\"/>\n      <use xlink:href=\"#DejaVuSans-6c\" x=\"120.458984\"/>\n      <use xlink:href=\"#DejaVuSans-5f\" x=\"148.242188\"/>\n      <use xlink:href=\"#DejaVuSans-63\" x=\"198.242188\"/>\n      <use xlink:href=\"#DejaVuSans-6f\" x=\"253.222656\"/>\n      <use xlink:href=\"#DejaVuSans-6c\" x=\"314.404297\"/>\n      <use xlink:href=\"#DejaVuSans-5f\" x=\"342.1875\"/>\n      <use xlink:href=\"#DejaVuSans-61\" x=\"392.1875\"/>\n      <use xlink:href=\"#DejaVuSans-63\" x=\"453.466797\"/>\n      <use xlink:href=\"#DejaVuSans-63\" x=\"508.447266\"/>\n     </g>\n    </g>\n    <g id=\"line2d_55\">\n     <path d=\"M 674.709375 65.329063 \nL 684.709375 65.329063 \nL 694.709375 65.329063 \n\" style=\"fill: none; stroke: #2ca02c; stroke-width: 1.5; stroke-linecap: square\"/>\n    </g>\n    <g id=\"text_29\">\n     <!-- col_loss -->\n     <g transform=\"translate(702.709375 68.829063) scale(0.1 -0.1)\">\n      <use xlink:href=\"#DejaVuSans-63\"/>\n      <use xlink:href=\"#DejaVuSans-6f\" x=\"54.980469\"/>\n      <use xlink:href=\"#DejaVuSans-6c\" x=\"116.162109\"/>\n      <use xlink:href=\"#DejaVuSans-5f\" x=\"143.945312\"/>\n      <use xlink:href=\"#DejaVuSans-6c\" x=\"193.945312\"/>\n      <use xlink:href=\"#DejaVuSans-6f\" x=\"221.728516\"/>\n      <use xlink:href=\"#DejaVuSans-73\" x=\"282.910156\"/>\n      <use xlink:href=\"#DejaVuSans-73\" x=\"335.009766\"/>\n     </g>\n    </g>\n    <g id=\"line2d_56\">\n     <path d=\"M 674.709375 80.285313 \nL 684.709375 80.285313 \nL 694.709375 80.285313 \n\" style=\"fill: none; stroke: #d62728; stroke-width: 1.5; stroke-linecap: square\"/>\n    </g>\n    <g id=\"text_30\">\n     <!-- val_col_loss -->\n     <g transform=\"translate(702.709375 83.785313) scale(0.1 -0.1)\">\n      <use xlink:href=\"#DejaVuSans-76\"/>\n      <use xlink:href=\"#DejaVuSans-61\" x=\"59.179688\"/>\n      <use xlink:href=\"#DejaVuSans-6c\" x=\"120.458984\"/>\n      <use xlink:href=\"#DejaVuSans-5f\" x=\"148.242188\"/>\n      <use xlink:href=\"#DejaVuSans-63\" x=\"198.242188\"/>\n      <use xlink:href=\"#DejaVuSans-6f\" x=\"253.222656\"/>\n      <use xlink:href=\"#DejaVuSans-6c\" x=\"314.404297\"/>\n      <use xlink:href=\"#DejaVuSans-5f\" x=\"342.1875\"/>\n      <use xlink:href=\"#DejaVuSans-6c\" x=\"392.1875\"/>\n      <use xlink:href=\"#DejaVuSans-6f\" x=\"419.970703\"/>\n      <use xlink:href=\"#DejaVuSans-73\" x=\"481.152344\"/>\n      <use xlink:href=\"#DejaVuSans-73\" x=\"533.251953\"/>\n     </g>\n    </g>\n   </g>\n  </g>\n </g>\n <defs>\n  <clipPath id=\"p635f9a8d05\">\n   <rect x=\"44.845313\" y=\"22.318125\" width=\"329.727273\" height=\"277.2\"/>\n  </clipPath>\n  <clipPath id=\"p58236f346e\">\n   <rect x=\"440.51804\" y=\"22.318125\" width=\"329.727273\" height=\"277.2\"/>\n  </clipPath>\n </defs>\n</svg>\n"
          },
          "metadata": {}
        }
      ],
      "source": [
        "# Plot learning curves\n",
        "H = history.history\n",
        "fig = plt.figure(figsize = (13, 5))\n",
        "\n",
        "for i, c in enumerate(('cat', 'col')):\n",
        "    plt.subplot(1, 2, i+1) # change '12' to '1, 2'\n",
        "    plt.plot(H[f'{c}_accuracy'], label = f'{c}_acc')\n",
        "    plt.plot(H[f'val_{c}_accuracy'], label = f'val_{c}_acc')\n",
        "    plt.plot(H[f'{c}_loss'], label = f'{c}_loss')\n",
        "    plt.plot(H[f'val_{c}_loss'], label = f'val_{c}_loss')\n",
        "    plt.title(f'{c} learning curves')\n",
        "    plt.legend()\n",
        "    plt.grid()\n"
      ]
    },
    {
      "cell_type": "code",
      "source": [
        "# Load best weights\n",
        "model.load_weights('../working/best_model.hdf5')\n",
        "\n",
        "# Predicting test images\n",
        "cat_preds, col_preds = model.predict(test_x)\n",
        "cat_preds = np.argmax(cat_preds, axis = 1)\n",
        "col_preds = np.argmax(col_preds, axis = 1)\n",
        "\n",
        "# Creating confusion matrices\n",
        "cat_confusion = confusion_matrix(np.argmax(cat_y_test, axis = 1), cat_preds)\n",
        "col_confusion = confusion_matrix(np.argmax(col_y_test, axis = 1), col_preds)"
      ],
      "metadata": {
        "colab": {
          "base_uri": "https://localhost:8080/"
        },
        "id": "uSMK-x7Qhay_",
        "outputId": "dfe2454d-4dcc-488e-a239-005373803236"
      },
      "execution_count": null,
      "outputs": [
        {
          "output_type": "stream",
          "name": "stdout",
          "text": [
            "19/19 [==============================] - 0s 15ms/step\n"
          ]
        }
      ]
    },
    {
      "cell_type": "code",
      "source": [
        "# Plotting confusion matrices\n",
        "fig = plt.figure(figsize = (13, 5))\n",
        "\n",
        "# Category confusion matrix plot\n",
        "plt.subplot(121)\n",
        "cat_l = list(lb_cat.classes_)\n",
        "sns.heatmap(cat_confusion, square = True, annot = True, fmt = 'd', cbar = False, \n",
        "            xticklabels = cat_l, yticklabels = cat_l, cmap = 'coolwarm').set_title('Category confusion matrix')\n",
        "\n",
        "# Color confusion matrix plot\n",
        "plt.subplot(122)\n",
        "col_l = list(lb_col.classes_)\n",
        "sns.heatmap(col_confusion, square = True, annot = True, fmt = 'd', cbar = False, \n",
        "            xticklabels = col_l, yticklabels = col_l, cmap = 'coolwarm').set_title('Color confusion matrix')\n",
        "\n",
        "plt.show()"
      ],
      "metadata": {
        "colab": {
          "base_uri": "https://localhost:8080/",
          "height": 452
        },
        "id": "llzGjx2Fg1Ln",
        "outputId": "e3e7ebf9-661e-43da-d684-a89fcac58b0b"
      },
      "execution_count": null,
      "outputs": [
        {
          "output_type": "display_data",
          "data": {
            "text/plain": [
              "<Figure size 1300x500 with 2 Axes>"
            ],
            "image/svg+xml": "<?xml version=\"1.0\" encoding=\"utf-8\" standalone=\"no\"?>\n<!DOCTYPE svg PUBLIC \"-//W3C//DTD SVG 1.1//EN\"\n  \"http://www.w3.org/Graphics/SVG/1.1/DTD/svg11.dtd\">\n<svg xmlns:xlink=\"http://www.w3.org/1999/xlink\" width=\"703.950852pt\" height=\"323.39625pt\" viewBox=\"0 0 703.950852 323.39625\" xmlns=\"http://www.w3.org/2000/svg\" version=\"1.1\">\n <metadata>\n  <rdf:RDF xmlns:dc=\"http://purl.org/dc/elements/1.1/\" xmlns:cc=\"http://creativecommons.org/ns#\" xmlns:rdf=\"http://www.w3.org/1999/02/22-rdf-syntax-ns#\">\n   <cc:Work>\n    <dc:type rdf:resource=\"http://purl.org/dc/dcmitype/StillImage\"/>\n    <dc:date>2023-04-20T16:36:43.912035</dc:date>\n    <dc:format>image/svg+xml</dc:format>\n    <dc:creator>\n     <cc:Agent>\n      <dc:title>Matplotlib v3.7.1, https://matplotlib.org/</dc:title>\n     </cc:Agent>\n    </dc:creator>\n   </cc:Work>\n  </rdf:RDF>\n </metadata>\n <defs>\n  <style type=\"text/css\">*{stroke-linejoin: round; stroke-linecap: butt}</style>\n </defs>\n <g id=\"figure_1\">\n  <g id=\"patch_1\">\n   <path d=\"M 0 323.39625 \nL 703.950852 323.39625 \nL 703.950852 0 \nL 0 0 \nz\n\" style=\"fill: #ffffff\"/>\n  </g>\n  <g id=\"axes_1\">\n   <g id=\"patch_2\">\n    <path d=\"M 23.878125 299.518125 \nL 301.078125 299.518125 \nL 301.078125 22.318125 \nL 23.878125 22.318125 \nz\n\" style=\"fill: #ffffff\"/>\n   </g>\n   <g id=\"QuadMesh_1\">\n    <path d=\"M 23.878125 22.318125 \nL 301.078125 22.318125 \nL 301.078125 299.518125 \nL 23.878125 299.518125 \nL 23.878125 22.318125 \n\" clip-path=\"url(#p5b0b2cca7e)\" style=\"fill: #3b4cc0\"/>\n   </g>\n   <g id=\"matplotlib.axis_1\">\n    <g id=\"xtick_1\">\n     <g id=\"line2d_1\">\n      <defs>\n       <path id=\"mc57905d56a\" d=\"M 0 0 \nL 0 3.5 \n\" style=\"stroke: #000000; stroke-width: 0.8\"/>\n      </defs>\n      <g>\n       <use xlink:href=\"#mc57905d56a\" x=\"162.478125\" y=\"299.518125\" style=\"stroke: #000000; stroke-width: 0.8\"/>\n      </g>\n     </g>\n     <g id=\"text_1\">\n      <!-- data -->\n      <g transform=\"translate(151.215625 314.116563) scale(0.1 -0.1)\">\n       <defs>\n        <path id=\"DejaVuSans-64\" d=\"M 2906 2969 \nL 2906 4863 \nL 3481 4863 \nL 3481 0 \nL 2906 0 \nL 2906 525 \nQ 2725 213 2448 61 \nQ 2172 -91 1784 -91 \nQ 1150 -91 751 415 \nQ 353 922 353 1747 \nQ 353 2572 751 3078 \nQ 1150 3584 1784 3584 \nQ 2172 3584 2448 3432 \nQ 2725 3281 2906 2969 \nz\nM 947 1747 \nQ 947 1113 1208 752 \nQ 1469 391 1925 391 \nQ 2381 391 2643 752 \nQ 2906 1113 2906 1747 \nQ 2906 2381 2643 2742 \nQ 2381 3103 1925 3103 \nQ 1469 3103 1208 2742 \nQ 947 2381 947 1747 \nz\n\" transform=\"scale(0.015625)\"/>\n        <path id=\"DejaVuSans-61\" d=\"M 2194 1759 \nQ 1497 1759 1228 1600 \nQ 959 1441 959 1056 \nQ 959 750 1161 570 \nQ 1363 391 1709 391 \nQ 2188 391 2477 730 \nQ 2766 1069 2766 1631 \nL 2766 1759 \nL 2194 1759 \nz\nM 3341 1997 \nL 3341 0 \nL 2766 0 \nL 2766 531 \nQ 2569 213 2275 61 \nQ 1981 -91 1556 -91 \nQ 1019 -91 701 211 \nQ 384 513 384 1019 \nQ 384 1609 779 1909 \nQ 1175 2209 1959 2209 \nL 2766 2209 \nL 2766 2266 \nQ 2766 2663 2505 2880 \nQ 2244 3097 1772 3097 \nQ 1472 3097 1187 3025 \nQ 903 2953 641 2809 \nL 641 3341 \nQ 956 3463 1253 3523 \nQ 1550 3584 1831 3584 \nQ 2591 3584 2966 3190 \nQ 3341 2797 3341 1997 \nz\n\" transform=\"scale(0.015625)\"/>\n        <path id=\"DejaVuSans-74\" d=\"M 1172 4494 \nL 1172 3500 \nL 2356 3500 \nL 2356 3053 \nL 1172 3053 \nL 1172 1153 \nQ 1172 725 1289 603 \nQ 1406 481 1766 481 \nL 2356 481 \nL 2356 0 \nL 1766 0 \nQ 1100 0 847 248 \nQ 594 497 594 1153 \nL 594 3053 \nL 172 3053 \nL 172 3500 \nL 594 3500 \nL 594 4494 \nL 1172 4494 \nz\n\" transform=\"scale(0.015625)\"/>\n       </defs>\n       <use xlink:href=\"#DejaVuSans-64\"/>\n       <use xlink:href=\"#DejaVuSans-61\" x=\"63.476562\"/>\n       <use xlink:href=\"#DejaVuSans-74\" x=\"124.755859\"/>\n       <use xlink:href=\"#DejaVuSans-61\" x=\"163.964844\"/>\n      </g>\n     </g>\n    </g>\n   </g>\n   <g id=\"matplotlib.axis_2\">\n    <g id=\"ytick_1\">\n     <g id=\"line2d_2\">\n      <defs>\n       <path id=\"m91dc6b1d9b\" d=\"M 0 0 \nL -3.5 0 \n\" style=\"stroke: #000000; stroke-width: 0.8\"/>\n      </defs>\n      <g>\n       <use xlink:href=\"#m91dc6b1d9b\" x=\"23.878125\" y=\"160.918125\" style=\"stroke: #000000; stroke-width: 0.8\"/>\n      </g>\n     </g>\n     <g id=\"text_2\">\n      <!-- data -->\n      <g transform=\"translate(14.798438 172.180625) rotate(-90) scale(0.1 -0.1)\">\n       <use xlink:href=\"#DejaVuSans-64\"/>\n       <use xlink:href=\"#DejaVuSans-61\" x=\"63.476562\"/>\n       <use xlink:href=\"#DejaVuSans-74\" x=\"124.755859\"/>\n       <use xlink:href=\"#DejaVuSans-61\" x=\"163.964844\"/>\n      </g>\n     </g>\n    </g>\n   </g>\n   <g id=\"text_3\">\n    <!-- 600 -->\n    <g style=\"fill: #ffffff\" transform=\"translate(152.934375 163.6775) scale(0.1 -0.1)\">\n     <defs>\n      <path id=\"DejaVuSans-36\" d=\"M 2113 2584 \nQ 1688 2584 1439 2293 \nQ 1191 2003 1191 1497 \nQ 1191 994 1439 701 \nQ 1688 409 2113 409 \nQ 2538 409 2786 701 \nQ 3034 994 3034 1497 \nQ 3034 2003 2786 2293 \nQ 2538 2584 2113 2584 \nz\nM 3366 4563 \nL 3366 3988 \nQ 3128 4100 2886 4159 \nQ 2644 4219 2406 4219 \nQ 1781 4219 1451 3797 \nQ 1122 3375 1075 2522 \nQ 1259 2794 1537 2939 \nQ 1816 3084 2150 3084 \nQ 2853 3084 3261 2657 \nQ 3669 2231 3669 1497 \nQ 3669 778 3244 343 \nQ 2819 -91 2113 -91 \nQ 1303 -91 875 529 \nQ 447 1150 447 2328 \nQ 447 3434 972 4092 \nQ 1497 4750 2381 4750 \nQ 2619 4750 2861 4703 \nQ 3103 4656 3366 4563 \nz\n\" transform=\"scale(0.015625)\"/>\n      <path id=\"DejaVuSans-30\" d=\"M 2034 4250 \nQ 1547 4250 1301 3770 \nQ 1056 3291 1056 2328 \nQ 1056 1369 1301 889 \nQ 1547 409 2034 409 \nQ 2525 409 2770 889 \nQ 3016 1369 3016 2328 \nQ 3016 3291 2770 3770 \nQ 2525 4250 2034 4250 \nz\nM 2034 4750 \nQ 2819 4750 3233 4129 \nQ 3647 3509 3647 2328 \nQ 3647 1150 3233 529 \nQ 2819 -91 2034 -91 \nQ 1250 -91 836 529 \nQ 422 1150 422 2328 \nQ 422 3509 836 4129 \nQ 1250 4750 2034 4750 \nz\n\" transform=\"scale(0.015625)\"/>\n     </defs>\n     <use xlink:href=\"#DejaVuSans-36\"/>\n     <use xlink:href=\"#DejaVuSans-30\" x=\"63.623047\"/>\n     <use xlink:href=\"#DejaVuSans-30\" x=\"127.246094\"/>\n    </g>\n   </g>\n   <g id=\"text_4\">\n    <!-- Category confusion matrix -->\n    <g transform=\"translate(82.74375 16.318125) scale(0.12 -0.12)\">\n     <defs>\n      <path id=\"DejaVuSans-43\" d=\"M 4122 4306 \nL 4122 3641 \nQ 3803 3938 3442 4084 \nQ 3081 4231 2675 4231 \nQ 1875 4231 1450 3742 \nQ 1025 3253 1025 2328 \nQ 1025 1406 1450 917 \nQ 1875 428 2675 428 \nQ 3081 428 3442 575 \nQ 3803 722 4122 1019 \nL 4122 359 \nQ 3791 134 3420 21 \nQ 3050 -91 2638 -91 \nQ 1578 -91 968 557 \nQ 359 1206 359 2328 \nQ 359 3453 968 4101 \nQ 1578 4750 2638 4750 \nQ 3056 4750 3426 4639 \nQ 3797 4528 4122 4306 \nz\n\" transform=\"scale(0.015625)\"/>\n      <path id=\"DejaVuSans-65\" d=\"M 3597 1894 \nL 3597 1613 \nL 953 1613 \nQ 991 1019 1311 708 \nQ 1631 397 2203 397 \nQ 2534 397 2845 478 \nQ 3156 559 3463 722 \nL 3463 178 \nQ 3153 47 2828 -22 \nQ 2503 -91 2169 -91 \nQ 1331 -91 842 396 \nQ 353 884 353 1716 \nQ 353 2575 817 3079 \nQ 1281 3584 2069 3584 \nQ 2775 3584 3186 3129 \nQ 3597 2675 3597 1894 \nz\nM 3022 2063 \nQ 3016 2534 2758 2815 \nQ 2500 3097 2075 3097 \nQ 1594 3097 1305 2825 \nQ 1016 2553 972 2059 \nL 3022 2063 \nz\n\" transform=\"scale(0.015625)\"/>\n      <path id=\"DejaVuSans-67\" d=\"M 2906 1791 \nQ 2906 2416 2648 2759 \nQ 2391 3103 1925 3103 \nQ 1463 3103 1205 2759 \nQ 947 2416 947 1791 \nQ 947 1169 1205 825 \nQ 1463 481 1925 481 \nQ 2391 481 2648 825 \nQ 2906 1169 2906 1791 \nz\nM 3481 434 \nQ 3481 -459 3084 -895 \nQ 2688 -1331 1869 -1331 \nQ 1566 -1331 1297 -1286 \nQ 1028 -1241 775 -1147 \nL 775 -588 \nQ 1028 -725 1275 -790 \nQ 1522 -856 1778 -856 \nQ 2344 -856 2625 -561 \nQ 2906 -266 2906 331 \nL 2906 616 \nQ 2728 306 2450 153 \nQ 2172 0 1784 0 \nQ 1141 0 747 490 \nQ 353 981 353 1791 \nQ 353 2603 747 3093 \nQ 1141 3584 1784 3584 \nQ 2172 3584 2450 3431 \nQ 2728 3278 2906 2969 \nL 2906 3500 \nL 3481 3500 \nL 3481 434 \nz\n\" transform=\"scale(0.015625)\"/>\n      <path id=\"DejaVuSans-6f\" d=\"M 1959 3097 \nQ 1497 3097 1228 2736 \nQ 959 2375 959 1747 \nQ 959 1119 1226 758 \nQ 1494 397 1959 397 \nQ 2419 397 2687 759 \nQ 2956 1122 2956 1747 \nQ 2956 2369 2687 2733 \nQ 2419 3097 1959 3097 \nz\nM 1959 3584 \nQ 2709 3584 3137 3096 \nQ 3566 2609 3566 1747 \nQ 3566 888 3137 398 \nQ 2709 -91 1959 -91 \nQ 1206 -91 779 398 \nQ 353 888 353 1747 \nQ 353 2609 779 3096 \nQ 1206 3584 1959 3584 \nz\n\" transform=\"scale(0.015625)\"/>\n      <path id=\"DejaVuSans-72\" d=\"M 2631 2963 \nQ 2534 3019 2420 3045 \nQ 2306 3072 2169 3072 \nQ 1681 3072 1420 2755 \nQ 1159 2438 1159 1844 \nL 1159 0 \nL 581 0 \nL 581 3500 \nL 1159 3500 \nL 1159 2956 \nQ 1341 3275 1631 3429 \nQ 1922 3584 2338 3584 \nQ 2397 3584 2469 3576 \nQ 2541 3569 2628 3553 \nL 2631 2963 \nz\n\" transform=\"scale(0.015625)\"/>\n      <path id=\"DejaVuSans-79\" d=\"M 2059 -325 \nQ 1816 -950 1584 -1140 \nQ 1353 -1331 966 -1331 \nL 506 -1331 \nL 506 -850 \nL 844 -850 \nQ 1081 -850 1212 -737 \nQ 1344 -625 1503 -206 \nL 1606 56 \nL 191 3500 \nL 800 3500 \nL 1894 763 \nL 2988 3500 \nL 3597 3500 \nL 2059 -325 \nz\n\" transform=\"scale(0.015625)\"/>\n      <path id=\"DejaVuSans-20\" transform=\"scale(0.015625)\"/>\n      <path id=\"DejaVuSans-63\" d=\"M 3122 3366 \nL 3122 2828 \nQ 2878 2963 2633 3030 \nQ 2388 3097 2138 3097 \nQ 1578 3097 1268 2742 \nQ 959 2388 959 1747 \nQ 959 1106 1268 751 \nQ 1578 397 2138 397 \nQ 2388 397 2633 464 \nQ 2878 531 3122 666 \nL 3122 134 \nQ 2881 22 2623 -34 \nQ 2366 -91 2075 -91 \nQ 1284 -91 818 406 \nQ 353 903 353 1747 \nQ 353 2603 823 3093 \nQ 1294 3584 2113 3584 \nQ 2378 3584 2631 3529 \nQ 2884 3475 3122 3366 \nz\n\" transform=\"scale(0.015625)\"/>\n      <path id=\"DejaVuSans-6e\" d=\"M 3513 2113 \nL 3513 0 \nL 2938 0 \nL 2938 2094 \nQ 2938 2591 2744 2837 \nQ 2550 3084 2163 3084 \nQ 1697 3084 1428 2787 \nQ 1159 2491 1159 1978 \nL 1159 0 \nL 581 0 \nL 581 3500 \nL 1159 3500 \nL 1159 2956 \nQ 1366 3272 1645 3428 \nQ 1925 3584 2291 3584 \nQ 2894 3584 3203 3211 \nQ 3513 2838 3513 2113 \nz\n\" transform=\"scale(0.015625)\"/>\n      <path id=\"DejaVuSans-66\" d=\"M 2375 4863 \nL 2375 4384 \nL 1825 4384 \nQ 1516 4384 1395 4259 \nQ 1275 4134 1275 3809 \nL 1275 3500 \nL 2222 3500 \nL 2222 3053 \nL 1275 3053 \nL 1275 0 \nL 697 0 \nL 697 3053 \nL 147 3053 \nL 147 3500 \nL 697 3500 \nL 697 3744 \nQ 697 4328 969 4595 \nQ 1241 4863 1831 4863 \nL 2375 4863 \nz\n\" transform=\"scale(0.015625)\"/>\n      <path id=\"DejaVuSans-75\" d=\"M 544 1381 \nL 544 3500 \nL 1119 3500 \nL 1119 1403 \nQ 1119 906 1312 657 \nQ 1506 409 1894 409 \nQ 2359 409 2629 706 \nQ 2900 1003 2900 1516 \nL 2900 3500 \nL 3475 3500 \nL 3475 0 \nL 2900 0 \nL 2900 538 \nQ 2691 219 2414 64 \nQ 2138 -91 1772 -91 \nQ 1169 -91 856 284 \nQ 544 659 544 1381 \nz\nM 1991 3584 \nL 1991 3584 \nz\n\" transform=\"scale(0.015625)\"/>\n      <path id=\"DejaVuSans-73\" d=\"M 2834 3397 \nL 2834 2853 \nQ 2591 2978 2328 3040 \nQ 2066 3103 1784 3103 \nQ 1356 3103 1142 2972 \nQ 928 2841 928 2578 \nQ 928 2378 1081 2264 \nQ 1234 2150 1697 2047 \nL 1894 2003 \nQ 2506 1872 2764 1633 \nQ 3022 1394 3022 966 \nQ 3022 478 2636 193 \nQ 2250 -91 1575 -91 \nQ 1294 -91 989 -36 \nQ 684 19 347 128 \nL 347 722 \nQ 666 556 975 473 \nQ 1284 391 1588 391 \nQ 1994 391 2212 530 \nQ 2431 669 2431 922 \nQ 2431 1156 2273 1281 \nQ 2116 1406 1581 1522 \nL 1381 1569 \nQ 847 1681 609 1914 \nQ 372 2147 372 2553 \nQ 372 3047 722 3315 \nQ 1072 3584 1716 3584 \nQ 2034 3584 2315 3537 \nQ 2597 3491 2834 3397 \nz\n\" transform=\"scale(0.015625)\"/>\n      <path id=\"DejaVuSans-69\" d=\"M 603 3500 \nL 1178 3500 \nL 1178 0 \nL 603 0 \nL 603 3500 \nz\nM 603 4863 \nL 1178 4863 \nL 1178 4134 \nL 603 4134 \nL 603 4863 \nz\n\" transform=\"scale(0.015625)\"/>\n      <path id=\"DejaVuSans-6d\" d=\"M 3328 2828 \nQ 3544 3216 3844 3400 \nQ 4144 3584 4550 3584 \nQ 5097 3584 5394 3201 \nQ 5691 2819 5691 2113 \nL 5691 0 \nL 5113 0 \nL 5113 2094 \nQ 5113 2597 4934 2840 \nQ 4756 3084 4391 3084 \nQ 3944 3084 3684 2787 \nQ 3425 2491 3425 1978 \nL 3425 0 \nL 2847 0 \nL 2847 2094 \nQ 2847 2600 2669 2842 \nQ 2491 3084 2119 3084 \nQ 1678 3084 1418 2786 \nQ 1159 2488 1159 1978 \nL 1159 0 \nL 581 0 \nL 581 3500 \nL 1159 3500 \nL 1159 2956 \nQ 1356 3278 1631 3431 \nQ 1906 3584 2284 3584 \nQ 2666 3584 2933 3390 \nQ 3200 3197 3328 2828 \nz\n\" transform=\"scale(0.015625)\"/>\n      <path id=\"DejaVuSans-78\" d=\"M 3513 3500 \nL 2247 1797 \nL 3578 0 \nL 2900 0 \nL 1881 1375 \nL 863 0 \nL 184 0 \nL 1544 1831 \nL 300 3500 \nL 978 3500 \nL 1906 2253 \nL 2834 3500 \nL 3513 3500 \nz\n\" transform=\"scale(0.015625)\"/>\n     </defs>\n     <use xlink:href=\"#DejaVuSans-43\"/>\n     <use xlink:href=\"#DejaVuSans-61\" x=\"69.824219\"/>\n     <use xlink:href=\"#DejaVuSans-74\" x=\"131.103516\"/>\n     <use xlink:href=\"#DejaVuSans-65\" x=\"170.3125\"/>\n     <use xlink:href=\"#DejaVuSans-67\" x=\"231.835938\"/>\n     <use xlink:href=\"#DejaVuSans-6f\" x=\"295.3125\"/>\n     <use xlink:href=\"#DejaVuSans-72\" x=\"356.494141\"/>\n     <use xlink:href=\"#DejaVuSans-79\" x=\"397.607422\"/>\n     <use xlink:href=\"#DejaVuSans-20\" x=\"456.787109\"/>\n     <use xlink:href=\"#DejaVuSans-63\" x=\"488.574219\"/>\n     <use xlink:href=\"#DejaVuSans-6f\" x=\"543.554688\"/>\n     <use xlink:href=\"#DejaVuSans-6e\" x=\"604.736328\"/>\n     <use xlink:href=\"#DejaVuSans-66\" x=\"668.115234\"/>\n     <use xlink:href=\"#DejaVuSans-75\" x=\"703.320312\"/>\n     <use xlink:href=\"#DejaVuSans-73\" x=\"766.699219\"/>\n     <use xlink:href=\"#DejaVuSans-69\" x=\"818.798828\"/>\n     <use xlink:href=\"#DejaVuSans-6f\" x=\"846.582031\"/>\n     <use xlink:href=\"#DejaVuSans-6e\" x=\"907.763672\"/>\n     <use xlink:href=\"#DejaVuSans-20\" x=\"971.142578\"/>\n     <use xlink:href=\"#DejaVuSans-6d\" x=\"1002.929688\"/>\n     <use xlink:href=\"#DejaVuSans-61\" x=\"1100.341797\"/>\n     <use xlink:href=\"#DejaVuSans-74\" x=\"1161.621094\"/>\n     <use xlink:href=\"#DejaVuSans-72\" x=\"1200.830078\"/>\n     <use xlink:href=\"#DejaVuSans-69\" x=\"1241.943359\"/>\n     <use xlink:href=\"#DejaVuSans-78\" x=\"1269.726562\"/>\n    </g>\n   </g>\n  </g>\n  <g id=\"axes_2\">\n   <g id=\"patch_3\">\n    <path d=\"M 419.550852 299.518125 \nL 696.750852 299.518125 \nL 696.750852 22.318125 \nL 419.550852 22.318125 \nz\n\" style=\"fill: #ffffff\"/>\n   </g>\n   <g id=\"QuadMesh_2\">\n    <path d=\"M 419.550852 22.318125 \nL 696.750852 22.318125 \nL 696.750852 299.518125 \nL 419.550852 299.518125 \nL 419.550852 22.318125 \n\" clip-path=\"url(#pa0b430c1a0)\" style=\"fill: #3b4cc0\"/>\n   </g>\n   <g id=\"matplotlib.axis_3\">\n    <g id=\"xtick_2\">\n     <g id=\"line2d_3\">\n      <g>\n       <use xlink:href=\"#mc57905d56a\" x=\"558.150852\" y=\"299.518125\" style=\"stroke: #000000; stroke-width: 0.8\"/>\n      </g>\n     </g>\n     <g id=\"text_5\">\n      <!-- apparel -->\n      <g transform=\"translate(539.265696 314.116563) scale(0.1 -0.1)\">\n       <defs>\n        <path id=\"DejaVuSans-70\" d=\"M 1159 525 \nL 1159 -1331 \nL 581 -1331 \nL 581 3500 \nL 1159 3500 \nL 1159 2969 \nQ 1341 3281 1617 3432 \nQ 1894 3584 2278 3584 \nQ 2916 3584 3314 3078 \nQ 3713 2572 3713 1747 \nQ 3713 922 3314 415 \nQ 2916 -91 2278 -91 \nQ 1894 -91 1617 61 \nQ 1341 213 1159 525 \nz\nM 3116 1747 \nQ 3116 2381 2855 2742 \nQ 2594 3103 2138 3103 \nQ 1681 3103 1420 2742 \nQ 1159 2381 1159 1747 \nQ 1159 1113 1420 752 \nQ 1681 391 2138 391 \nQ 2594 391 2855 752 \nQ 3116 1113 3116 1747 \nz\n\" transform=\"scale(0.015625)\"/>\n        <path id=\"DejaVuSans-6c\" d=\"M 603 4863 \nL 1178 4863 \nL 1178 0 \nL 603 0 \nL 603 4863 \nz\n\" transform=\"scale(0.015625)\"/>\n       </defs>\n       <use xlink:href=\"#DejaVuSans-61\"/>\n       <use xlink:href=\"#DejaVuSans-70\" x=\"61.279297\"/>\n       <use xlink:href=\"#DejaVuSans-70\" x=\"124.755859\"/>\n       <use xlink:href=\"#DejaVuSans-61\" x=\"188.232422\"/>\n       <use xlink:href=\"#DejaVuSans-72\" x=\"249.511719\"/>\n       <use xlink:href=\"#DejaVuSans-65\" x=\"288.375\"/>\n       <use xlink:href=\"#DejaVuSans-6c\" x=\"349.898438\"/>\n      </g>\n     </g>\n    </g>\n   </g>\n   <g id=\"matplotlib.axis_4\">\n    <g id=\"ytick_2\">\n     <g id=\"line2d_4\">\n      <g>\n       <use xlink:href=\"#m91dc6b1d9b\" x=\"419.550852\" y=\"160.918125\" style=\"stroke: #000000; stroke-width: 0.8\"/>\n      </g>\n     </g>\n     <g id=\"text_6\">\n      <!-- apparel -->\n      <g transform=\"translate(410.471165 179.803281) rotate(-90) scale(0.1 -0.1)\">\n       <use xlink:href=\"#DejaVuSans-61\"/>\n       <use xlink:href=\"#DejaVuSans-70\" x=\"61.279297\"/>\n       <use xlink:href=\"#DejaVuSans-70\" x=\"124.755859\"/>\n       <use xlink:href=\"#DejaVuSans-61\" x=\"188.232422\"/>\n       <use xlink:href=\"#DejaVuSans-72\" x=\"249.511719\"/>\n       <use xlink:href=\"#DejaVuSans-65\" x=\"288.375\"/>\n       <use xlink:href=\"#DejaVuSans-6c\" x=\"349.898438\"/>\n      </g>\n     </g>\n    </g>\n   </g>\n   <g id=\"text_7\">\n    <!-- 600 -->\n    <g style=\"fill: #ffffff\" transform=\"translate(548.607102 163.6775) scale(0.1 -0.1)\">\n     <use xlink:href=\"#DejaVuSans-36\"/>\n     <use xlink:href=\"#DejaVuSans-30\" x=\"63.623047\"/>\n     <use xlink:href=\"#DejaVuSans-30\" x=\"127.246094\"/>\n    </g>\n   </g>\n   <g id=\"text_8\">\n    <!-- Color confusion matrix -->\n    <g transform=\"translate(490.159602 16.318125) scale(0.12 -0.12)\">\n     <use xlink:href=\"#DejaVuSans-43\"/>\n     <use xlink:href=\"#DejaVuSans-6f\" x=\"69.824219\"/>\n     <use xlink:href=\"#DejaVuSans-6c\" x=\"131.005859\"/>\n     <use xlink:href=\"#DejaVuSans-6f\" x=\"158.789062\"/>\n     <use xlink:href=\"#DejaVuSans-72\" x=\"219.970703\"/>\n     <use xlink:href=\"#DejaVuSans-20\" x=\"261.083984\"/>\n     <use xlink:href=\"#DejaVuSans-63\" x=\"292.871094\"/>\n     <use xlink:href=\"#DejaVuSans-6f\" x=\"347.851562\"/>\n     <use xlink:href=\"#DejaVuSans-6e\" x=\"409.033203\"/>\n     <use xlink:href=\"#DejaVuSans-66\" x=\"472.412109\"/>\n     <use xlink:href=\"#DejaVuSans-75\" x=\"507.617188\"/>\n     <use xlink:href=\"#DejaVuSans-73\" x=\"570.996094\"/>\n     <use xlink:href=\"#DejaVuSans-69\" x=\"623.095703\"/>\n     <use xlink:href=\"#DejaVuSans-6f\" x=\"650.878906\"/>\n     <use xlink:href=\"#DejaVuSans-6e\" x=\"712.060547\"/>\n     <use xlink:href=\"#DejaVuSans-20\" x=\"775.439453\"/>\n     <use xlink:href=\"#DejaVuSans-6d\" x=\"807.226562\"/>\n     <use xlink:href=\"#DejaVuSans-61\" x=\"904.638672\"/>\n     <use xlink:href=\"#DejaVuSans-74\" x=\"965.917969\"/>\n     <use xlink:href=\"#DejaVuSans-72\" x=\"1005.126953\"/>\n     <use xlink:href=\"#DejaVuSans-69\" x=\"1046.240234\"/>\n     <use xlink:href=\"#DejaVuSans-78\" x=\"1074.023438\"/>\n    </g>\n   </g>\n  </g>\n </g>\n <defs>\n  <clipPath id=\"p5b0b2cca7e\">\n   <rect x=\"23.878125\" y=\"22.318125\" width=\"277.2\" height=\"277.2\"/>\n  </clipPath>\n  <clipPath id=\"pa0b430c1a0\">\n   <rect x=\"419.550852\" y=\"22.318125\" width=\"277.2\" height=\"277.2\"/>\n  </clipPath>\n </defs>\n</svg>\n"
          },
          "metadata": {}
        }
      ]
    }
  ],
  "metadata": {
    "accelerator": "GPU",
    "colab": {
      "provenance": []
    },
    "gpuClass": "standard",
    "kernelspec": {
      "display_name": "Python 3",
      "name": "python3"
    },
    "language_info": {
      "name": "python"
    }
  },
  "nbformat": 4,
  "nbformat_minor": 0
}