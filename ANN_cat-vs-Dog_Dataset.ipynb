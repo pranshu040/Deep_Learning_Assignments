{
  "cells": [
    {
      "cell_type": "markdown",
      "source": [
        "DEEP LEARNING\n",
        "\n",
        "LAB 4\n",
        "\n",
        "PRANSHU PARATE\n",
        "\n",
        "202211063"
      ],
      "metadata": {
        "id": "sUZJi6hPgsWi"
      },
      "id": "sUZJi6hPgsWi"
    },
    {
      "cell_type": "markdown",
      "source": [
        "Dog vs Cat Dataset\n"
      ],
      "metadata": {
        "id": "CKtvhjtIg_lU"
      },
      "id": "CKtvhjtIg_lU"
    },
    {
      "cell_type": "code",
      "execution_count": null,
      "id": "df7b983f",
      "metadata": {
        "id": "df7b983f",
        "outputId": "c83fec76-0cef-40b2-bda4-1db31595161d"
      },
      "outputs": [
        {
          "name": "stdout",
          "output_type": "stream",
          "text": [
            "(25000, 9216) (25000,)\n"
          ]
        }
      ],
      "source": [
        "# load dogs vs cats dataset, reshape and save to a new file\n",
        "from os import listdir\n",
        "from numpy import asarray\n",
        "from numpy import save\n",
        "from keras_preprocessing.image import load_img\n",
        "import os\n",
        "import pathlib\n",
        "import pickle\n",
        "import numpy as np\n",
        "import pandas as pd\n",
        "import tensorflow as tf\n",
        "from PIL import Image, ImageOps\n",
        "from IPython.display import display\n",
        "from sklearn.utils import shuffle\n",
        "import matplotlib.pyplot as plt\n",
        "from matplotlib import rcParams\n",
        "import warnings\n",
        "from keras_preprocessing.image import img_to_array\n",
        "from os import makedirs\n",
        "from os import listdir\n",
        "from shutil import copyfile\n",
        "from random import seed\n",
        "from random import random\n",
        "\n",
        "def process_image(img) -> np.array:\n",
        "    #img = Image.open(img_path)\n",
        "    img = ImageOps.grayscale(img)\n",
        "    img = img.resize(size=(96, 96))\n",
        "    img = np.ravel(img) / 255.0\n",
        "    return img\n",
        "# define location of dataset\n",
        "folder = \"C:/Users/Dell/Downloads/dog vs cats/train\"\n",
        "photos, labels = list(), list()\n",
        "# enumerate files in the directory\n",
        "for file in listdir(folder):\n",
        " # determine class\n",
        " output = 0.0\n",
        " if file.startswith('dog'):\n",
        "     output = 1.0\n",
        " # load image\n",
        " photo = Image.open(folder +\"/\" + file ,'r')\n",
        " # convert to numpy array\n",
        " photo = process_image(photo)\n",
        " # store\n",
        " photos.append(photo)\n",
        " labels.append(output)\n",
        "# convert to a numpy arrays\n",
        "photos = asarray(photos)\n",
        "labels = asarray(labels)\n",
        "print(photos.shape, labels.shape)\n",
        "# save the reshaped photos\n",
        "save('dogs_vs_cats_photos.npy', photos)\n",
        "save('dogs_vs_cats_labels.npy', labels)"
      ]
    },
    {
      "cell_type": "code",
      "execution_count": null,
      "id": "1abbaffc",
      "metadata": {
        "id": "1abbaffc",
        "outputId": "fd8d4170-dfda-4096-9ded-f16f4a8b2021"
      },
      "outputs": [
        {
          "name": "stdout",
          "output_type": "stream",
          "text": [
            "(25000, 9216) (25000,)\n"
          ]
        }
      ],
      "source": [
        "#printing the shape of photos and labels set\n",
        "from numpy import load\n",
        "photos = load('dogs_vs_cats_photos.npy')\n",
        "labels = load('dogs_vs_cats_labels.npy')\n",
        "print(photos.shape, labels.shape)"
      ]
    },
    {
      "cell_type": "code",
      "execution_count": null,
      "id": "2da5ea70",
      "metadata": {
        "id": "2da5ea70"
      },
      "outputs": [],
      "source": [
        "dataset_home = 'C:/Users/Dell/Downloads/dog vs cats/'\n",
        "subdirs = ['train/', 'test1/']\n",
        "for subdir in subdirs:\n",
        " # create label subdirectories\n",
        " labeldirs = ['dogs/', 'cats/']\n",
        " for labldir in labeldirs:\n",
        "     newdir = dataset_home + subdir + labldir\n",
        "     os.makedirs(newdir, exist_ok=True)"
      ]
    },
    {
      "cell_type": "code",
      "execution_count": null,
      "id": "222918c8",
      "metadata": {
        "id": "222918c8"
      },
      "outputs": [],
      "source": [
        "# seed random number generator\n",
        "seed(1)\n",
        "# define ratio of pictures to use for validation\n",
        "val_ratio = 0.25\n",
        "# copy training dataset images into subdirectories\n",
        "src_directory = 'train/'\n",
        "for file in listdir(src_directory):\n",
        " src = src_directory + '/' + file\n",
        " dst_dir = 'train/'\n",
        " if random() < val_ratio:\n",
        "     dst_dir = 'test1/'\n",
        " if file.startswith('cat'):\n",
        "     dst = dataset_home + dst_dir + 'cats/'  + file\n",
        "     copyfile(src, dst)\n",
        " elif file.startswith('dog'):\n",
        "     dst = dataset_home + dst_dir + 'dogs/'  + file\n",
        "     copyfile(src, dst)"
      ]
    },
    {
      "cell_type": "code",
      "execution_count": null,
      "id": "dc2e601d",
      "metadata": {
        "id": "dc2e601d"
      },
      "outputs": [],
      "source": [
        "def process_image(img_path: str) -> np.array:\n",
        "    img = Image.open(img_path)\n",
        "    img = ImageOps.grayscale(img)\n",
        "    img = img.resize(size=(96, 96))\n",
        "    img = np.ravel(img) / 255.0\n",
        "    return img"
      ]
    },
    {
      "cell_type": "code",
      "execution_count": null,
      "id": "fc355f70",
      "metadata": {
        "id": "fc355f70"
      },
      "outputs": [],
      "source": [
        "def process_folder(folder: pathlib.PosixPath) -> pd.DataFrame:\n",
        "    # We'll store the images here\n",
        "    processed = []\n",
        "    \n",
        "    # For every image in the directory\n",
        "    for img in folder.iterdir():\n",
        "        # Ensure JPG\n",
        "        if img.suffix == '.jpg':\n",
        "            # Two images failed for whatever reason, so let's just ignore them\n",
        "            try:\n",
        "                processed.append(process_image(img_path=str(img)))\n",
        "            except Exception as _:\n",
        "                continue\n",
        "           \n",
        "    # Convert to pd.DataFrame\n",
        "    processed = pd.DataFrame(processed)\n",
        "    # Add a class column - dog or a cat\n",
        "    processed['class'] = folder.parts[-1]\n",
        "    \n",
        "    return processed"
      ]
    },
    {
      "cell_type": "code",
      "execution_count": null,
      "id": "7822b8fb",
      "metadata": {
        "id": "7822b8fb"
      },
      "outputs": [],
      "source": [
        "train_cat = process_folder(folder=pathlib.Path.cwd().joinpath(\"C:/Users/Dell/Downloads/dog vs cats/train/cats\"))\n",
        "train_dog = process_folder(folder=pathlib.Path.cwd().joinpath(\"C:/Users/Dell/Downloads/dog vs cats/train/dogs\"))\n",
        "train_set = pd.concat([train_cat, train_dog], axis=0)\n",
        "\n",
        "with open('train_set.pkl', 'wb') as f:\n",
        "    pickle.dump(train_set, f)\n",
        "\n",
        "# Test set\n",
        "test_cat = process_folder(folder=pathlib.Path.cwd().joinpath(\"C:/Users/Dell/Downloads/dog vs cats/test1/cats\"))\n",
        "test_dog = process_folder(folder=pathlib.Path.cwd().joinpath(\"C:/Users/Dell/Downloads/dog vs cats/test1/dogs\"))\n",
        "test_set = pd.concat([test_cat, test_dog], axis=0)\n",
        "\n",
        "with open('test_set.pkl', 'wb') as f:\n",
        "    pickle.dump(test_set, f)"
      ]
    },
    {
      "cell_type": "code",
      "execution_count": null,
      "id": "83ca843f",
      "metadata": {
        "id": "83ca843f",
        "outputId": "303aa483-2213-4408-f7fa-ad9756a0e096"
      },
      "outputs": [
        {
          "data": {
            "text/html": [
              "<div>\n",
              "<style scoped>\n",
              "    .dataframe tbody tr th:only-of-type {\n",
              "        vertical-align: middle;\n",
              "    }\n",
              "\n",
              "    .dataframe tbody tr th {\n",
              "        vertical-align: top;\n",
              "    }\n",
              "\n",
              "    .dataframe thead th {\n",
              "        text-align: right;\n",
              "    }\n",
              "</style>\n",
              "<table border=\"1\" class=\"dataframe\">\n",
              "  <thead>\n",
              "    <tr style=\"text-align: right;\">\n",
              "      <th></th>\n",
              "      <th>0</th>\n",
              "      <th>1</th>\n",
              "      <th>2</th>\n",
              "      <th>3</th>\n",
              "      <th>4</th>\n",
              "      <th>5</th>\n",
              "      <th>6</th>\n",
              "      <th>7</th>\n",
              "      <th>8</th>\n",
              "      <th>9</th>\n",
              "      <th>...</th>\n",
              "      <th>9207</th>\n",
              "      <th>9208</th>\n",
              "      <th>9209</th>\n",
              "      <th>9210</th>\n",
              "      <th>9211</th>\n",
              "      <th>9212</th>\n",
              "      <th>9213</th>\n",
              "      <th>9214</th>\n",
              "      <th>9215</th>\n",
              "      <th>class</th>\n",
              "    </tr>\n",
              "  </thead>\n",
              "  <tbody>\n",
              "    <tr>\n",
              "      <th>0</th>\n",
              "      <td>0.545098</td>\n",
              "      <td>0.556863</td>\n",
              "      <td>0.576471</td>\n",
              "      <td>0.592157</td>\n",
              "      <td>0.584314</td>\n",
              "      <td>0.552941</td>\n",
              "      <td>0.521569</td>\n",
              "      <td>0.521569</td>\n",
              "      <td>0.619608</td>\n",
              "      <td>0.623529</td>\n",
              "      <td>...</td>\n",
              "      <td>0.501961</td>\n",
              "      <td>0.584314</td>\n",
              "      <td>0.423529</td>\n",
              "      <td>0.294118</td>\n",
              "      <td>0.372549</td>\n",
              "      <td>0.443137</td>\n",
              "      <td>0.439216</td>\n",
              "      <td>0.403922</td>\n",
              "      <td>0.368627</td>\n",
              "      <td>dogs</td>\n",
              "    </tr>\n",
              "    <tr>\n",
              "      <th>1</th>\n",
              "      <td>1.000000</td>\n",
              "      <td>1.000000</td>\n",
              "      <td>1.000000</td>\n",
              "      <td>1.000000</td>\n",
              "      <td>1.000000</td>\n",
              "      <td>1.000000</td>\n",
              "      <td>1.000000</td>\n",
              "      <td>1.000000</td>\n",
              "      <td>1.000000</td>\n",
              "      <td>1.000000</td>\n",
              "      <td>...</td>\n",
              "      <td>0.898039</td>\n",
              "      <td>0.976471</td>\n",
              "      <td>0.952941</td>\n",
              "      <td>0.972549</td>\n",
              "      <td>0.913725</td>\n",
              "      <td>0.894118</td>\n",
              "      <td>0.890196</td>\n",
              "      <td>0.937255</td>\n",
              "      <td>0.921569</td>\n",
              "      <td>cats</td>\n",
              "    </tr>\n",
              "    <tr>\n",
              "      <th>2</th>\n",
              "      <td>0.180392</td>\n",
              "      <td>0.180392</td>\n",
              "      <td>0.180392</td>\n",
              "      <td>0.176471</td>\n",
              "      <td>0.184314</td>\n",
              "      <td>0.192157</td>\n",
              "      <td>0.188235</td>\n",
              "      <td>0.184314</td>\n",
              "      <td>0.149020</td>\n",
              "      <td>0.184314</td>\n",
              "      <td>...</td>\n",
              "      <td>0.658824</td>\n",
              "      <td>0.654902</td>\n",
              "      <td>0.650980</td>\n",
              "      <td>0.654902</td>\n",
              "      <td>0.654902</td>\n",
              "      <td>0.662745</td>\n",
              "      <td>0.662745</td>\n",
              "      <td>0.662745</td>\n",
              "      <td>0.650980</td>\n",
              "      <td>dogs</td>\n",
              "    </tr>\n",
              "    <tr>\n",
              "      <th>3</th>\n",
              "      <td>0.254902</td>\n",
              "      <td>0.396078</td>\n",
              "      <td>0.541176</td>\n",
              "      <td>0.505882</td>\n",
              "      <td>0.380392</td>\n",
              "      <td>0.384314</td>\n",
              "      <td>0.427451</td>\n",
              "      <td>0.450980</td>\n",
              "      <td>0.529412</td>\n",
              "      <td>0.541176</td>\n",
              "      <td>...</td>\n",
              "      <td>0.964706</td>\n",
              "      <td>0.600000</td>\n",
              "      <td>0.211765</td>\n",
              "      <td>0.250980</td>\n",
              "      <td>0.274510</td>\n",
              "      <td>0.266667</td>\n",
              "      <td>0.200000</td>\n",
              "      <td>0.129412</td>\n",
              "      <td>0.129412</td>\n",
              "      <td>cats</td>\n",
              "    </tr>\n",
              "    <tr>\n",
              "      <th>4</th>\n",
              "      <td>0.533333</td>\n",
              "      <td>0.549020</td>\n",
              "      <td>0.549020</td>\n",
              "      <td>0.541176</td>\n",
              "      <td>0.537255</td>\n",
              "      <td>0.517647</td>\n",
              "      <td>0.509804</td>\n",
              "      <td>0.545098</td>\n",
              "      <td>0.600000</td>\n",
              "      <td>0.611765</td>\n",
              "      <td>...</td>\n",
              "      <td>0.329412</td>\n",
              "      <td>0.333333</td>\n",
              "      <td>0.298039</td>\n",
              "      <td>0.301961</td>\n",
              "      <td>0.309804</td>\n",
              "      <td>0.239216</td>\n",
              "      <td>0.074510</td>\n",
              "      <td>0.047059</td>\n",
              "      <td>0.035294</td>\n",
              "      <td>dogs</td>\n",
              "    </tr>\n",
              "  </tbody>\n",
              "</table>\n",
              "<p>5 rows × 9217 columns</p>\n",
              "</div>"
            ],
            "text/plain": [
              "          0         1         2         3         4         5         6  \\\n",
              "0  0.545098  0.556863  0.576471  0.592157  0.584314  0.552941  0.521569   \n",
              "1  1.000000  1.000000  1.000000  1.000000  1.000000  1.000000  1.000000   \n",
              "2  0.180392  0.180392  0.180392  0.176471  0.184314  0.192157  0.188235   \n",
              "3  0.254902  0.396078  0.541176  0.505882  0.380392  0.384314  0.427451   \n",
              "4  0.533333  0.549020  0.549020  0.541176  0.537255  0.517647  0.509804   \n",
              "\n",
              "          7         8         9  ...      9207      9208      9209      9210  \\\n",
              "0  0.521569  0.619608  0.623529  ...  0.501961  0.584314  0.423529  0.294118   \n",
              "1  1.000000  1.000000  1.000000  ...  0.898039  0.976471  0.952941  0.972549   \n",
              "2  0.184314  0.149020  0.184314  ...  0.658824  0.654902  0.650980  0.654902   \n",
              "3  0.450980  0.529412  0.541176  ...  0.964706  0.600000  0.211765  0.250980   \n",
              "4  0.545098  0.600000  0.611765  ...  0.329412  0.333333  0.298039  0.301961   \n",
              "\n",
              "       9211      9212      9213      9214      9215  class  \n",
              "0  0.372549  0.443137  0.439216  0.403922  0.368627   dogs  \n",
              "1  0.913725  0.894118  0.890196  0.937255  0.921569   cats  \n",
              "2  0.654902  0.662745  0.662745  0.662745  0.650980   dogs  \n",
              "3  0.274510  0.266667  0.200000  0.129412  0.129412   cats  \n",
              "4  0.309804  0.239216  0.074510  0.047059  0.035294   dogs  \n",
              "\n",
              "[5 rows x 9217 columns]"
            ]
          },
          "execution_count": 8,
          "metadata": {},
          "output_type": "execute_result"
        }
      ],
      "source": [
        "train_set = shuffle(train_set).reset_index(drop=True)\n",
        "train_set.head()"
      ]
    },
    {
      "cell_type": "code",
      "execution_count": null,
      "id": "f7fadcbf",
      "metadata": {
        "id": "f7fadcbf"
      },
      "outputs": [],
      "source": [
        "#splitting of train and test set\n",
        "from sklearn.model_selection import train_test_split\n",
        "\n",
        "X_set = train_set.drop('class', axis=1)\n",
        "y_set = train_set['class']\n",
        "X_train, X_valid,y_train, y_valid = train_test_split(X_set,y_set ,\n",
        "                                   random_state=104, \n",
        "                                   test_size=0.25, \n",
        "                                   shuffle=True)\n",
        "  \n",
        "\n",
        "\n",
        "X_test = test_set.drop('class', axis=1)\n",
        "y_test = test_set['class']"
      ]
    },
    {
      "cell_type": "code",
      "execution_count": null,
      "id": "2ff40d8e",
      "metadata": {
        "id": "2ff40d8e"
      },
      "outputs": [],
      "source": [
        "y_train = tf.keras.utils.to_categorical(y_train.factorize()[0], num_classes=2)\n",
        "y_valid = tf.keras.utils.to_categorical(y_valid.factorize()[0], num_classes=2)\n",
        "y_test = tf.keras.utils.to_categorical(y_test.factorize()[0], num_classes=2)"
      ]
    },
    {
      "cell_type": "code",
      "execution_count": null,
      "id": "2f366c9f",
      "metadata": {
        "id": "2f366c9f",
        "outputId": "c33e0ec5-ce3e-492f-ac31-e5a295de3da0"
      },
      "outputs": [
        {
          "name": "stdout",
          "output_type": "stream",
          "text": [
            "Epoch 1/30\n",
            "110/110 [==============================] - 27s 228ms/step - loss: 1.1324 - accuracy: 0.5088 - val_loss: 0.6845 - val_accuracy: 0.5591\n",
            "Epoch 2/30\n",
            "110/110 [==============================] - 28s 252ms/step - loss: 0.6834 - accuracy: 0.5539 - val_loss: 0.6721 - val_accuracy: 0.5784\n",
            "Epoch 3/30\n",
            "110/110 [==============================] - 30s 275ms/step - loss: 0.6654 - accuracy: 0.5947 - val_loss: 0.6583 - val_accuracy: 0.6126\n",
            "Epoch 4/30\n",
            "110/110 [==============================] - 28s 255ms/step - loss: 0.6613 - accuracy: 0.5999 - val_loss: 0.6611 - val_accuracy: 0.6066\n",
            "Epoch 5/30\n",
            "110/110 [==============================] - 33s 303ms/step - loss: 0.6581 - accuracy: 0.6042 - val_loss: 0.6636 - val_accuracy: 0.6073\n",
            "Epoch 6/30\n",
            "110/110 [==============================] - 39s 349ms/step - loss: 0.6550 - accuracy: 0.6117 - val_loss: 0.6638 - val_accuracy: 0.6233\n",
            "Epoch 7/30\n",
            "110/110 [==============================] - 37s 336ms/step - loss: 0.6507 - accuracy: 0.6184 - val_loss: 0.6592 - val_accuracy: 0.6218\n",
            "Epoch 8/30\n",
            "110/110 [==============================] - 38s 345ms/step - loss: 0.6477 - accuracy: 0.6213 - val_loss: 0.6500 - val_accuracy: 0.6193\n",
            "Epoch 9/30\n",
            "110/110 [==============================] - 33s 300ms/step - loss: 0.6462 - accuracy: 0.6250 - val_loss: 0.6561 - val_accuracy: 0.6139\n",
            "Epoch 10/30\n",
            "110/110 [==============================] - 30s 274ms/step - loss: 0.6459 - accuracy: 0.6205 - val_loss: 0.6472 - val_accuracy: 0.6259\n",
            "Epoch 11/30\n",
            "110/110 [==============================] - 28s 258ms/step - loss: 0.6393 - accuracy: 0.6316 - val_loss: 0.6515 - val_accuracy: 0.6193\n",
            "Epoch 12/30\n",
            "110/110 [==============================] - 27s 245ms/step - loss: 0.6402 - accuracy: 0.6294 - val_loss: 0.6566 - val_accuracy: 0.6148\n",
            "Epoch 13/30\n",
            "110/110 [==============================] - 29s 267ms/step - loss: 0.6358 - accuracy: 0.6368 - val_loss: 0.6571 - val_accuracy: 0.6270\n",
            "Epoch 14/30\n",
            "110/110 [==============================] - 28s 257ms/step - loss: 0.6361 - accuracy: 0.6340 - val_loss: 0.6466 - val_accuracy: 0.6252\n",
            "Epoch 15/30\n",
            "110/110 [==============================] - 28s 250ms/step - loss: 0.6321 - accuracy: 0.6395 - val_loss: 0.6433 - val_accuracy: 0.6267\n",
            "Epoch 16/30\n",
            "110/110 [==============================] - 29s 261ms/step - loss: 0.6315 - accuracy: 0.6410 - val_loss: 0.6639 - val_accuracy: 0.6190\n",
            "Epoch 17/30\n",
            "110/110 [==============================] - 27s 246ms/step - loss: 0.6343 - accuracy: 0.6394 - val_loss: 0.6458 - val_accuracy: 0.6280\n",
            "Epoch 18/30\n",
            "110/110 [==============================] - 34s 306ms/step - loss: 0.6318 - accuracy: 0.6375 - val_loss: 0.6484 - val_accuracy: 0.6137\n",
            "Epoch 19/30\n",
            "110/110 [==============================] - 32s 288ms/step - loss: 0.6293 - accuracy: 0.6418 - val_loss: 0.6695 - val_accuracy: 0.5919\n",
            "Epoch 20/30\n",
            "110/110 [==============================] - 33s 298ms/step - loss: 0.6246 - accuracy: 0.6497 - val_loss: 0.6473 - val_accuracy: 0.6152\n",
            "Epoch 21/30\n",
            "110/110 [==============================] - 29s 267ms/step - loss: 0.6241 - accuracy: 0.6471 - val_loss: 0.6508 - val_accuracy: 0.6186\n",
            "Epoch 22/30\n",
            "110/110 [==============================] - 30s 271ms/step - loss: 0.6234 - accuracy: 0.6498 - val_loss: 0.6473 - val_accuracy: 0.6173\n",
            "Epoch 23/30\n",
            "110/110 [==============================] - 31s 285ms/step - loss: 0.6208 - accuracy: 0.6491 - val_loss: 0.6567 - val_accuracy: 0.6047\n",
            "Epoch 24/30\n",
            "110/110 [==============================] - 29s 267ms/step - loss: 0.6160 - accuracy: 0.6590 - val_loss: 0.6578 - val_accuracy: 0.6139\n",
            "Epoch 25/30\n",
            "110/110 [==============================] - 34s 309ms/step - loss: 0.6117 - accuracy: 0.6583 - val_loss: 0.6545 - val_accuracy: 0.6218\n",
            "Epoch 26/30\n",
            "110/110 [==============================] - 28s 253ms/step - loss: 0.6175 - accuracy: 0.6530 - val_loss: 0.6499 - val_accuracy: 0.6210\n",
            "Epoch 27/30\n",
            "110/110 [==============================] - 32s 292ms/step - loss: 0.6102 - accuracy: 0.6612 - val_loss: 0.6450 - val_accuracy: 0.6297\n",
            "Epoch 28/30\n",
            "110/110 [==============================] - 33s 300ms/step - loss: 0.6090 - accuracy: 0.6622 - val_loss: 0.6472 - val_accuracy: 0.6259\n",
            "Epoch 29/30\n",
            "110/110 [==============================] - 31s 284ms/step - loss: 0.6044 - accuracy: 0.6669 - val_loss: 0.6528 - val_accuracy: 0.6203\n",
            "Epoch 30/30\n",
            "110/110 [==============================] - 27s 247ms/step - loss: 0.6028 - accuracy: 0.6680 - val_loss: 0.6462 - val_accuracy: 0.6325\n"
          ]
        }
      ],
      "source": [
        "#building the model\n",
        "tf.random.set_seed(42)\n",
        "\n",
        "model = tf.keras.Sequential([\n",
        "    tf.keras.layers.Dense(2048, activation='relu'),\n",
        "    tf.keras.layers.Dense(1024, activation='relu'),\n",
        "    tf.keras.layers.Dense(1024, activation='relu'),\n",
        "    tf.keras.layers.Dense(128, activation='relu'),\n",
        "    tf.keras.layers.Dense(2, activation='softmax')\n",
        "])\n",
        "#compile the model\n",
        "model.compile(\n",
        "    loss=tf.keras.losses.categorical_crossentropy,\n",
        "    optimizer=tf.keras.optimizers.Adam(),\n",
        "    metrics=[tf.keras.metrics.BinaryAccuracy(name='accuracy')]\n",
        ")\n",
        "#fitting he model\n",
        "history = model.fit(\n",
        "    X_train,\n",
        "    y_train,\n",
        "    epochs=30,\n",
        "    batch_size=128,\n",
        "    validation_data=(X_valid, y_valid)\n",
        "    \n",
        ")"
      ]
    },
    {
      "cell_type": "code",
      "execution_count": null,
      "id": "634c44c9",
      "metadata": {
        "id": "634c44c9",
        "outputId": "35d321f5-84f8-4f24-bb23-30f9b35d294a"
      },
      "outputs": [
        {
          "data": {
            "image/png": "[encoded data removed]",
            "text/plain": [
              "<Figure size 800x500 with 1 Axes>"
            ]
          },
          "metadata": {},
          "output_type": "display_data"
        }
      ],
      "source": [
        "import pandas as pd\n",
        "pd.DataFrame(history.history).plot(figsize = (8,5))\n",
        "plt.grid(True)\n",
        "plt.gca().set_ylim(0,1)\n",
        "plt.show()"
      ]
    },
    {
      "cell_type": "code",
      "execution_count": null,
      "id": "7fd832aa",
      "metadata": {
        "id": "7fd832aa",
        "outputId": "5e27202c-e013-4f3f-bf40-1819421eead9"
      },
      "outputs": [
        {
          "name": "stdout",
          "output_type": "stream",
          "text": [
            "197/197 [==============================] - 6s 31ms/step - loss: 0.6679 - accuracy: 0.6105\n"
          ]
        },
        {
          "data": {
            "text/plain": [
              "[0.6679239869117737, 0.6105029582977295]"
            ]
          },
          "execution_count": 18,
          "metadata": {},
          "output_type": "execute_result"
        }
      ],
      "source": [
        "#evaluation of accuracy and loss\n",
        "model.evaluate(X_test, y_test)"
      ]
    },
    {
      "cell_type": "code",
      "execution_count": null,
      "id": "b0febcf1",
      "metadata": {
        "id": "b0febcf1",
        "outputId": "51b8ee24-58ca-42c9-89a3-7536daebcde6"
      },
      "outputs": [
        {
          "name": "stdout",
          "output_type": "stream",
          "text": [
            "1/1 [==============================] - 0s 157ms/step\n"
          ]
        },
        {
          "data": {
            "text/plain": [
              "array([[0.71, 0.29],\n",
              "       [0.52, 0.48],\n",
              "       [0.56, 0.44]], dtype=float32)"
            ]
          },
          "execution_count": 19,
          "metadata": {},
          "output_type": "execute_result"
        }
      ],
      "source": [
        "X_new = X_test[:3]\n",
        "y_proba = model.predict(X_new)\n",
        "y_proba.round(2)"
      ]
    },
    {
      "cell_type": "code",
      "execution_count": null,
      "id": "2e5c1fa1",
      "metadata": {
        "id": "2e5c1fa1",
        "outputId": "09e70097-6b7d-4bb7-e4ef-599ed63dbb00"
      },
      "outputs": [
        {
          "name": "stdout",
          "output_type": "stream",
          "text": [
            "[0 0 0]\n"
          ]
        }
      ],
      "source": [
        "classes_x=np.argmax(y_proba,axis=1)\n",
        "print(classes_x)"
      ]
    }
  ],
  "metadata": {
    "kernelspec": {
      "display_name": "Python 3 (ipykernel)",
      "language": "python",
      "name": "python3"
    },
    "language_info": {
      "codemirror_mode": {
        "name": "ipython",
        "version": 3
      },
      "file_extension": ".py",
      "mimetype": "text/x-python",
      "name": "python",
      "nbconvert_exporter": "python",
      "pygments_lexer": "ipython3",
      "version": "3.9.12"
    },
    "colab": {
      "provenance": []
    }
  },
  "nbformat": 4,
  "nbformat_minor": 5
}