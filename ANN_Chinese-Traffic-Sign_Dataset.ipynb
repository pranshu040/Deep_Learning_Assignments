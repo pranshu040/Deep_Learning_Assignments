{
  "nbformat": 4,
  "nbformat_minor": 0,
  "metadata": {
    "colab": {
      "provenance": []
    },
    "kernelspec": {
      "name": "python3",
      "display_name": "Python 3"
    },
    "language_info": {
      "name": "python"
    }
  },
  "cells": [
    {
      "cell_type": "markdown",
      "source": [
        "DEEP LEARNING\n",
        "\n",
        "LAB-4\n",
        "\n",
        "PRANSHU PARATE\n",
        "\n",
        "202211063"
      ],
      "metadata": {
        "id": "VeAgAWQsxkjJ"
      }
    },
    {
      "cell_type": "markdown",
      "source": [
        "Chinese Traffic Sign Database"
      ],
      "metadata": {
        "id": "UEc6axd1xsot"
      }
    },
    {
      "cell_type": "code",
      "execution_count": 48,
      "metadata": {
        "colab": {
          "base_uri": "https://localhost:8080/"
        },
        "id": "YwmXmMARtfuY",
        "outputId": "5122936f-fa2b-4b8d-8309-5ac8f31737a9"
      },
      "outputs": [
        {
          "output_type": "stream",
          "name": "stdout",
          "text": [
            "Drive already mounted at /content/drive; to attempt to forcibly remount, call drive.mount(\"/content/drive\", force_remount=True).\n"
          ]
        }
      ],
      "source": [
        "#import google drive\n",
        "from google.colab import drive\n",
        "drive.mount('/content/drive')"
      ]
    },
    {
      "cell_type": "code",
      "source": [
        "#imort the packages\n",
        "import numpy as np\n",
        "import matplotlib.pyplot as plt\n",
        "import os\n",
        "import cv2\n",
        "from sklearn.preprocessing import LabelBinarizer"
      ],
      "metadata": {
        "id": "vNuVafYjwb18"
      },
      "execution_count": 49,
      "outputs": []
    },
    {
      "cell_type": "code",
      "source": [
        "# Load the training images\n",
        "training_images_path = \"/content/drive/MyDrive/train/train\"\n",
        "training_images = []\n",
        "training_labels = []\n",
        "for image_filename in os.listdir(training_images_path):\n",
        "    image = cv2.imread(os.path.join(training_images_path, image_filename))\n",
        "    image = cv2.cvtColor(image, cv2.COLOR_BGR2GRAY)\n",
        "    image = cv2.resize(image, (32, 32))\n",
        "    training_images.append(image)\n",
        "    training_labels.append(int(image_filename.split(\"_\")[0]))\n",
        "training_images = np.array(training_images) \n",
        "training_labels = np.array(training_labels)"
      ],
      "metadata": {
        "id": "fcpfdM75wb7K"
      },
      "execution_count": 50,
      "outputs": []
    },
    {
      "cell_type": "code",
      "source": [
        "# Load the testing images\n",
        "testing_images_path = \"/content/drive/MyDrive/train/test\"\n",
        "testing_images = []\n",
        "testing_labels = []\n",
        "for image_filename in os.listdir(testing_images_path):\n",
        "    image = cv2.imread(os.path.join(testing_images_path, image_filename))\n",
        "    image = cv2.cvtColor(image, cv2.COLOR_BGR2GRAY)\n",
        "    image = cv2.resize(image, (32, 32))\n",
        "    testing_images.append(image)\n",
        "    testing_labels.append(int(image_filename.split(\"_\")[0]))\n",
        "testing_images = np.array(testing_images) \n",
        "testing_labels = np.array(testing_labels)"
      ],
      "metadata": {
        "id": "dgSixoIMwb93"
      },
      "execution_count": 51,
      "outputs": []
    },
    {
      "cell_type": "code",
      "source": [],
      "metadata": {
        "id": "qh_LGQOlm4WF"
      },
      "execution_count": 51,
      "outputs": []
    },
    {
      "cell_type": "code",
      "source": [
        "testing_images.shape"
      ],
      "metadata": {
        "colab": {
          "base_uri": "https://localhost:8080/"
        },
        "id": "i7DEatcmwcAR",
        "outputId": "0eb0d7cb-066f-4a2e-8d9a-4c3da3afc7e1"
      },
      "execution_count": 52,
      "outputs": [
        {
          "output_type": "execute_result",
          "data": {
            "text/plain": [
              "(1994, 32, 32)"
            ]
          },
          "metadata": {},
          "execution_count": 52
        }
      ]
    },
    {
      "cell_type": "code",
      "source": [
        "training_images.shape"
      ],
      "metadata": {
        "colab": {
          "base_uri": "https://localhost:8080/"
        },
        "id": "hDhr3km4cEYs",
        "outputId": "3a52a43f-4f51-4ca6-f133-df37da802c10"
      },
      "execution_count": 53,
      "outputs": [
        {
          "output_type": "execute_result",
          "data": {
            "text/plain": [
              "(4170, 32, 32)"
            ]
          },
          "metadata": {},
          "execution_count": 53
        }
      ]
    },
    {
      "cell_type": "code",
      "source": [
        "training_labels.shape"
      ],
      "metadata": {
        "colab": {
          "base_uri": "https://localhost:8080/"
        },
        "id": "j0AY6Z8LcEfr",
        "outputId": "ff51746a-69a2-4981-e949-bccc66f659e5"
      },
      "execution_count": 54,
      "outputs": [
        {
          "output_type": "execute_result",
          "data": {
            "text/plain": [
              "(4170,)"
            ]
          },
          "metadata": {},
          "execution_count": 54
        }
      ]
    },
    {
      "cell_type": "code",
      "source": [
        "testing_labels.shape"
      ],
      "metadata": {
        "colab": {
          "base_uri": "https://localhost:8080/"
        },
        "id": "FPkklTUuwcCj",
        "outputId": "675804a2-d529-44ed-fbe1-a2289d56cf7d"
      },
      "execution_count": 55,
      "outputs": [
        {
          "output_type": "execute_result",
          "data": {
            "text/plain": [
              "(1994,)"
            ]
          },
          "metadata": {},
          "execution_count": 55
        }
      ]
    },
    {
      "cell_type": "code",
      "source": [
        "# compute the number of labels\n",
        "num_labels = len(np.unique(training_labels))\n",
        "num_labels"
      ],
      "metadata": {
        "colab": {
          "base_uri": "https://localhost:8080/"
        },
        "id": "5N3AqEEGcI-0",
        "outputId": "a2a37c2b-9753-4ba6-9c7b-9363a7e1d68f"
      },
      "execution_count": 56,
      "outputs": [
        {
          "output_type": "execute_result",
          "data": {
            "text/plain": [
              "58"
            ]
          },
          "metadata": {},
          "execution_count": 56
        }
      ]
    },
    {
      "cell_type": "code",
      "source": [
        "# image dimensions (assumed square)\n",
        "image_size = training_images.shape[1]\n",
        "input_size = image_size * image_size\n",
        "input_size"
      ],
      "metadata": {
        "colab": {
          "base_uri": "https://localhost:8080/"
        },
        "id": "nS4zPqKzcp1i",
        "outputId": "c35afb09-6a03-44c0-a5b0-43fd1a16fd2f"
      },
      "execution_count": 57,
      "outputs": [
        {
          "output_type": "execute_result",
          "data": {
            "text/plain": [
              "1024"
            ]
          },
          "metadata": {},
          "execution_count": 57
        }
      ]
    },
    {
      "cell_type": "code",
      "source": [
        "# resize and normalize\n",
        "training_images = np.reshape(training_images, [-1, input_size])\n",
        "training_images = training_images.astype('float32') / 255\n",
        "testing_images = np.reshape(testing_images, [-1, input_size])\n",
        "testing_images = testing_images.astype('float32') / 255"
      ],
      "metadata": {
        "id": "OUGe3ufscuCr"
      },
      "execution_count": 58,
      "outputs": []
    },
    {
      "cell_type": "code",
      "source": [
        "# Encode the labels\n",
        "encoder = LabelBinarizer()\n",
        "training_labels = encoder.fit_transform(training_labels)\n",
        "testing_labels = encoder.transform(testing_labels)"
      ],
      "metadata": {
        "id": "v2svh2eGcxVS"
      },
      "execution_count": 59,
      "outputs": []
    },
    {
      "cell_type": "code",
      "source": [
        "#network parameters\n",
        "batch_size = 1024\n",
        "hidden_units = 512\n",
        "dropout = 0.45"
      ],
      "metadata": {
        "id": "gF5QsXw5c0gD"
      },
      "execution_count": 60,
      "outputs": []
    },
    {
      "cell_type": "code",
      "source": [
        "#imprt the packages\n",
        "from keras.models import Sequential\n",
        "from keras.layers import Dense , Activation, Dropout\n",
        "from keras.optimizers import Adam ,RMSprop\n",
        "from keras import  backend as K"
      ],
      "metadata": {
        "id": "PUop1KL6c0oT"
      },
      "execution_count": 61,
      "outputs": []
    },
    {
      "cell_type": "code",
      "source": [
        "#building the model\n",
        "model = Sequential()\n",
        "model.add(Dense(hidden_units, input_dim=input_size))\n",
        "model.add(Activation('relu'))\n",
        "model.add(Dropout(dropout))\n",
        "model.add(Dense(hidden_units))\n",
        "model.add(Activation('relu'))\n",
        "model.add(Dropout(dropout))\n",
        "model.add(Dense(num_labels))\n",
        "model.add(Activation('softmax'))"
      ],
      "metadata": {
        "id": "mnnI7gu_c7ea"
      },
      "execution_count": 62,
      "outputs": []
    },
    {
      "cell_type": "code",
      "source": [
        "#compile the model\n",
        "model.compile(loss='categorical_crossentropy', \n",
        "              optimizer='adam',\n",
        "              metrics=['accuracy'])"
      ],
      "metadata": {
        "id": "d3FwnbR-dAlC"
      },
      "execution_count": 63,
      "outputs": []
    },
    {
      "cell_type": "code",
      "source": [
        "#fitting the model\n",
        "model.fit(training_images, training_labels, epochs=200, batch_size=batch_size)"
      ],
      "metadata": {
        "colab": {
          "base_uri": "https://localhost:8080/"
        },
        "id": "zukNcsxQdAsN",
        "outputId": "54189d39-9327-43c9-d24a-07ef03735c71"
      },
      "execution_count": 64,
      "outputs": [
        {
          "output_type": "stream",
          "name": "stdout",
          "text": [
            "Epoch 1/200\n",
            "5/5 [==============================] - 1s 83ms/step - loss: 3.8685 - accuracy: 0.0813\n",
            "Epoch 2/200\n",
            "5/5 [==============================] - 0s 81ms/step - loss: 3.5317 - accuracy: 0.1201\n",
            "Epoch 3/200\n",
            "5/5 [==============================] - 0s 82ms/step - loss: 3.3669 - accuracy: 0.1588\n",
            "Epoch 4/200\n",
            "5/5 [==============================] - 0s 80ms/step - loss: 3.2408 - accuracy: 0.1892\n",
            "Epoch 5/200\n",
            "5/5 [==============================] - 1s 132ms/step - loss: 3.1094 - accuracy: 0.2302\n",
            "Epoch 6/200\n",
            "5/5 [==============================] - 1s 137ms/step - loss: 2.9475 - accuracy: 0.2715\n",
            "Epoch 7/200\n",
            "5/5 [==============================] - 1s 141ms/step - loss: 2.8169 - accuracy: 0.3029\n",
            "Epoch 8/200\n",
            "5/5 [==============================] - 1s 138ms/step - loss: 2.6821 - accuracy: 0.3302\n",
            "Epoch 9/200\n",
            "5/5 [==============================] - 1s 136ms/step - loss: 2.5719 - accuracy: 0.3487\n",
            "Epoch 10/200\n",
            "5/5 [==============================] - 1s 135ms/step - loss: 2.4216 - accuracy: 0.4043\n",
            "Epoch 11/200\n",
            "5/5 [==============================] - 1s 136ms/step - loss: 2.2904 - accuracy: 0.4295\n",
            "Epoch 12/200\n",
            "5/5 [==============================] - 0s 80ms/step - loss: 2.1890 - accuracy: 0.4475\n",
            "Epoch 13/200\n",
            "5/5 [==============================] - 0s 79ms/step - loss: 2.0780 - accuracy: 0.4683\n",
            "Epoch 14/200\n",
            "5/5 [==============================] - 0s 81ms/step - loss: 1.9655 - accuracy: 0.5041\n",
            "Epoch 15/200\n",
            "5/5 [==============================] - 0s 81ms/step - loss: 1.9021 - accuracy: 0.5125\n",
            "Epoch 16/200\n",
            "5/5 [==============================] - 0s 82ms/step - loss: 1.7849 - accuracy: 0.5374\n",
            "Epoch 17/200\n",
            "5/5 [==============================] - 0s 80ms/step - loss: 1.7100 - accuracy: 0.5470\n",
            "Epoch 18/200\n",
            "5/5 [==============================] - 0s 78ms/step - loss: 1.6494 - accuracy: 0.5633\n",
            "Epoch 19/200\n",
            "5/5 [==============================] - 0s 79ms/step - loss: 1.5750 - accuracy: 0.5868\n",
            "Epoch 20/200\n",
            "5/5 [==============================] - 0s 83ms/step - loss: 1.5206 - accuracy: 0.6043\n",
            "Epoch 21/200\n",
            "5/5 [==============================] - 0s 81ms/step - loss: 1.4567 - accuracy: 0.6192\n",
            "Epoch 22/200\n",
            "5/5 [==============================] - 0s 81ms/step - loss: 1.4356 - accuracy: 0.6103\n",
            "Epoch 23/200\n",
            "5/5 [==============================] - 0s 81ms/step - loss: 1.3968 - accuracy: 0.6223\n",
            "Epoch 24/200\n",
            "5/5 [==============================] - 0s 79ms/step - loss: 1.3163 - accuracy: 0.6417\n",
            "Epoch 25/200\n",
            "5/5 [==============================] - 0s 79ms/step - loss: 1.2890 - accuracy: 0.6453\n",
            "Epoch 26/200\n",
            "5/5 [==============================] - 0s 82ms/step - loss: 1.2610 - accuracy: 0.6621\n",
            "Epoch 27/200\n",
            "5/5 [==============================] - 0s 79ms/step - loss: 1.1991 - accuracy: 0.6760\n",
            "Epoch 28/200\n",
            "5/5 [==============================] - 0s 82ms/step - loss: 1.1665 - accuracy: 0.6758\n",
            "Epoch 29/200\n",
            "5/5 [==============================] - 0s 81ms/step - loss: 1.1413 - accuracy: 0.6859\n",
            "Epoch 30/200\n",
            "5/5 [==============================] - 0s 78ms/step - loss: 1.0911 - accuracy: 0.6983\n",
            "Epoch 31/200\n",
            "5/5 [==============================] - 0s 81ms/step - loss: 1.0534 - accuracy: 0.7141\n",
            "Epoch 32/200\n",
            "5/5 [==============================] - 0s 78ms/step - loss: 1.0294 - accuracy: 0.7113\n",
            "Epoch 33/200\n",
            "5/5 [==============================] - 0s 80ms/step - loss: 0.9949 - accuracy: 0.7228\n",
            "Epoch 34/200\n",
            "5/5 [==============================] - 0s 80ms/step - loss: 0.9647 - accuracy: 0.7309\n",
            "Epoch 35/200\n",
            "5/5 [==============================] - 1s 109ms/step - loss: 0.9413 - accuracy: 0.7302\n",
            "Epoch 36/200\n",
            "5/5 [==============================] - 1s 135ms/step - loss: 0.9383 - accuracy: 0.7427\n",
            "Epoch 37/200\n",
            "5/5 [==============================] - 1s 137ms/step - loss: 0.8984 - accuracy: 0.7494\n",
            "Epoch 38/200\n",
            "5/5 [==============================] - 1s 136ms/step - loss: 0.9006 - accuracy: 0.7499\n",
            "Epoch 39/200\n",
            "5/5 [==============================] - 1s 127ms/step - loss: 0.9323 - accuracy: 0.7362\n",
            "Epoch 40/200\n",
            "5/5 [==============================] - 1s 136ms/step - loss: 0.8591 - accuracy: 0.7592\n",
            "Epoch 41/200\n",
            "5/5 [==============================] - 1s 137ms/step - loss: 0.8495 - accuracy: 0.7554\n",
            "Epoch 42/200\n",
            "5/5 [==============================] - 1s 96ms/step - loss: 0.8095 - accuracy: 0.7679\n",
            "Epoch 43/200\n",
            "5/5 [==============================] - 0s 80ms/step - loss: 0.7614 - accuracy: 0.7878\n",
            "Epoch 44/200\n",
            "5/5 [==============================] - 0s 85ms/step - loss: 0.7610 - accuracy: 0.7885\n",
            "Epoch 45/200\n",
            "5/5 [==============================] - 0s 76ms/step - loss: 0.7411 - accuracy: 0.7945\n",
            "Epoch 46/200\n",
            "5/5 [==============================] - 0s 81ms/step - loss: 0.7228 - accuracy: 0.8026\n",
            "Epoch 47/200\n",
            "5/5 [==============================] - 0s 91ms/step - loss: 0.7031 - accuracy: 0.8029\n",
            "Epoch 48/200\n",
            "5/5 [==============================] - 0s 88ms/step - loss: 0.6897 - accuracy: 0.8036\n",
            "Epoch 49/200\n",
            "5/5 [==============================] - 1s 123ms/step - loss: 0.6721 - accuracy: 0.8062\n",
            "Epoch 50/200\n",
            "5/5 [==============================] - 1s 143ms/step - loss: 0.6434 - accuracy: 0.8249\n",
            "Epoch 51/200\n",
            "5/5 [==============================] - 1s 136ms/step - loss: 0.6135 - accuracy: 0.8324\n",
            "Epoch 52/200\n",
            "5/5 [==============================] - 1s 141ms/step - loss: 0.6326 - accuracy: 0.8204\n",
            "Epoch 53/200\n",
            "5/5 [==============================] - 1s 136ms/step - loss: 0.5917 - accuracy: 0.8321\n",
            "Epoch 54/200\n",
            "5/5 [==============================] - 1s 140ms/step - loss: 0.5951 - accuracy: 0.8307\n",
            "Epoch 55/200\n",
            "5/5 [==============================] - 1s 125ms/step - loss: 0.5811 - accuracy: 0.8305\n",
            "Epoch 56/200\n",
            "5/5 [==============================] - 0s 83ms/step - loss: 0.5501 - accuracy: 0.8388\n",
            "Epoch 57/200\n",
            "5/5 [==============================] - 0s 78ms/step - loss: 0.5701 - accuracy: 0.8372\n",
            "Epoch 58/200\n",
            "5/5 [==============================] - 0s 83ms/step - loss: 0.5693 - accuracy: 0.8331\n",
            "Epoch 59/200\n",
            "5/5 [==============================] - 0s 78ms/step - loss: 0.5712 - accuracy: 0.8345\n",
            "Epoch 60/200\n",
            "5/5 [==============================] - 0s 80ms/step - loss: 0.5272 - accuracy: 0.8410\n",
            "Epoch 61/200\n",
            "5/5 [==============================] - 1s 133ms/step - loss: 0.5525 - accuracy: 0.8470\n",
            "Epoch 62/200\n",
            "5/5 [==============================] - 1s 135ms/step - loss: 0.5203 - accuracy: 0.8518\n",
            "Epoch 63/200\n",
            "5/5 [==============================] - 1s 137ms/step - loss: 0.5180 - accuracy: 0.8489\n",
            "Epoch 64/200\n",
            "5/5 [==============================] - 1s 138ms/step - loss: 0.5020 - accuracy: 0.8465\n",
            "Epoch 65/200\n",
            "5/5 [==============================] - 1s 138ms/step - loss: 0.4750 - accuracy: 0.8631\n",
            "Epoch 66/200\n",
            "5/5 [==============================] - 1s 134ms/step - loss: 0.4990 - accuracy: 0.8554\n",
            "Epoch 67/200\n",
            "5/5 [==============================] - 1s 132ms/step - loss: 0.4478 - accuracy: 0.8695\n",
            "Epoch 68/200\n",
            "5/5 [==============================] - 0s 77ms/step - loss: 0.4424 - accuracy: 0.8729\n",
            "Epoch 69/200\n",
            "5/5 [==============================] - 0s 82ms/step - loss: 0.4340 - accuracy: 0.8772\n",
            "Epoch 70/200\n",
            "5/5 [==============================] - 0s 77ms/step - loss: 0.4252 - accuracy: 0.8700\n",
            "Epoch 71/200\n",
            "5/5 [==============================] - 0s 81ms/step - loss: 0.4146 - accuracy: 0.8777\n",
            "Epoch 72/200\n",
            "5/5 [==============================] - 0s 79ms/step - loss: 0.4151 - accuracy: 0.8820\n",
            "Epoch 73/200\n",
            "5/5 [==============================] - 0s 81ms/step - loss: 0.4007 - accuracy: 0.8791\n",
            "Epoch 74/200\n",
            "5/5 [==============================] - 0s 79ms/step - loss: 0.3952 - accuracy: 0.8844\n",
            "Epoch 75/200\n",
            "5/5 [==============================] - 0s 79ms/step - loss: 0.4315 - accuracy: 0.8693\n",
            "Epoch 76/200\n",
            "5/5 [==============================] - 0s 82ms/step - loss: 0.4152 - accuracy: 0.8782\n",
            "Epoch 77/200\n",
            "5/5 [==============================] - 0s 78ms/step - loss: 0.3965 - accuracy: 0.8813\n",
            "Epoch 78/200\n",
            "5/5 [==============================] - 0s 81ms/step - loss: 0.3973 - accuracy: 0.8892\n",
            "Epoch 79/200\n",
            "5/5 [==============================] - 0s 80ms/step - loss: 0.3946 - accuracy: 0.8827\n",
            "Epoch 80/200\n",
            "5/5 [==============================] - 0s 79ms/step - loss: 0.4035 - accuracy: 0.8830\n",
            "Epoch 81/200\n",
            "5/5 [==============================] - 0s 83ms/step - loss: 0.3599 - accuracy: 0.8962\n",
            "Epoch 82/200\n",
            "5/5 [==============================] - 0s 78ms/step - loss: 0.3624 - accuracy: 0.8990\n",
            "Epoch 83/200\n",
            "5/5 [==============================] - 0s 82ms/step - loss: 0.3681 - accuracy: 0.8909\n",
            "Epoch 84/200\n",
            "5/5 [==============================] - 0s 79ms/step - loss: 0.3791 - accuracy: 0.8873\n",
            "Epoch 85/200\n",
            "5/5 [==============================] - 0s 76ms/step - loss: 0.3608 - accuracy: 0.9002\n",
            "Epoch 86/200\n",
            "5/5 [==============================] - 0s 79ms/step - loss: 0.3407 - accuracy: 0.8952\n",
            "Epoch 87/200\n",
            "5/5 [==============================] - 0s 77ms/step - loss: 0.3528 - accuracy: 0.8974\n",
            "Epoch 88/200\n",
            "5/5 [==============================] - 0s 81ms/step - loss: 0.3436 - accuracy: 0.9029\n",
            "Epoch 89/200\n",
            "5/5 [==============================] - 0s 79ms/step - loss: 0.3492 - accuracy: 0.8983\n",
            "Epoch 90/200\n",
            "5/5 [==============================] - 0s 83ms/step - loss: 0.3107 - accuracy: 0.9098\n",
            "Epoch 91/200\n",
            "5/5 [==============================] - 1s 104ms/step - loss: 0.3062 - accuracy: 0.9115\n",
            "Epoch 92/200\n",
            "5/5 [==============================] - 1s 142ms/step - loss: 0.3098 - accuracy: 0.9084\n",
            "Epoch 93/200\n",
            "5/5 [==============================] - 1s 137ms/step - loss: 0.3050 - accuracy: 0.9163\n",
            "Epoch 94/200\n",
            "5/5 [==============================] - 1s 135ms/step - loss: 0.2895 - accuracy: 0.9146\n",
            "Epoch 95/200\n",
            "5/5 [==============================] - 1s 134ms/step - loss: 0.3009 - accuracy: 0.9101\n",
            "Epoch 96/200\n",
            "5/5 [==============================] - 1s 139ms/step - loss: 0.3289 - accuracy: 0.9074\n",
            "Epoch 97/200\n",
            "5/5 [==============================] - 1s 136ms/step - loss: 0.2983 - accuracy: 0.9158\n",
            "Epoch 98/200\n",
            "5/5 [==============================] - 1s 93ms/step - loss: 0.2981 - accuracy: 0.9141\n",
            "Epoch 99/200\n",
            "5/5 [==============================] - 0s 77ms/step - loss: 0.2840 - accuracy: 0.9156\n",
            "Epoch 100/200\n",
            "5/5 [==============================] - 0s 81ms/step - loss: 0.2856 - accuracy: 0.9134\n",
            "Epoch 101/200\n",
            "5/5 [==============================] - 0s 83ms/step - loss: 0.2687 - accuracy: 0.9242\n",
            "Epoch 102/200\n",
            "5/5 [==============================] - 0s 80ms/step - loss: 0.2824 - accuracy: 0.9225\n",
            "Epoch 103/200\n",
            "5/5 [==============================] - 0s 82ms/step - loss: 0.2595 - accuracy: 0.9221\n",
            "Epoch 104/200\n",
            "5/5 [==============================] - 0s 82ms/step - loss: 0.2632 - accuracy: 0.9235\n",
            "Epoch 105/200\n",
            "5/5 [==============================] - 0s 80ms/step - loss: 0.2348 - accuracy: 0.9333\n",
            "Epoch 106/200\n",
            "5/5 [==============================] - 0s 79ms/step - loss: 0.2765 - accuracy: 0.9189\n",
            "Epoch 107/200\n",
            "5/5 [==============================] - 0s 79ms/step - loss: 0.2318 - accuracy: 0.9329\n",
            "Epoch 108/200\n",
            "5/5 [==============================] - 0s 78ms/step - loss: 0.2323 - accuracy: 0.9329\n",
            "Epoch 109/200\n",
            "5/5 [==============================] - 0s 78ms/step - loss: 0.2459 - accuracy: 0.9261\n",
            "Epoch 110/200\n",
            "5/5 [==============================] - 0s 82ms/step - loss: 0.2483 - accuracy: 0.9288\n",
            "Epoch 111/200\n",
            "5/5 [==============================] - 0s 79ms/step - loss: 0.2410 - accuracy: 0.9297\n",
            "Epoch 112/200\n",
            "5/5 [==============================] - 0s 85ms/step - loss: 0.2160 - accuracy: 0.9365\n",
            "Epoch 113/200\n",
            "5/5 [==============================] - 0s 81ms/step - loss: 0.2347 - accuracy: 0.9312\n",
            "Epoch 114/200\n",
            "5/5 [==============================] - 0s 80ms/step - loss: 0.2307 - accuracy: 0.9333\n",
            "Epoch 115/200\n",
            "5/5 [==============================] - 0s 84ms/step - loss: 0.2320 - accuracy: 0.9307\n",
            "Epoch 116/200\n",
            "5/5 [==============================] - 0s 78ms/step - loss: 0.2554 - accuracy: 0.9199\n",
            "Epoch 117/200\n",
            "5/5 [==============================] - 0s 83ms/step - loss: 0.2549 - accuracy: 0.9249\n",
            "Epoch 118/200\n",
            "5/5 [==============================] - 0s 81ms/step - loss: 0.2333 - accuracy: 0.9355\n",
            "Epoch 119/200\n",
            "5/5 [==============================] - 0s 79ms/step - loss: 0.2454 - accuracy: 0.9237\n",
            "Epoch 120/200\n",
            "5/5 [==============================] - 0s 89ms/step - loss: 0.2561 - accuracy: 0.9223\n",
            "Epoch 121/200\n",
            "5/5 [==============================] - 0s 96ms/step - loss: 0.2753 - accuracy: 0.9199\n",
            "Epoch 122/200\n",
            "5/5 [==============================] - 1s 141ms/step - loss: 0.2635 - accuracy: 0.9156\n",
            "Epoch 123/200\n",
            "5/5 [==============================] - 1s 139ms/step - loss: 0.2578 - accuracy: 0.9230\n",
            "Epoch 124/200\n",
            "5/5 [==============================] - 1s 134ms/step - loss: 0.2577 - accuracy: 0.9261\n",
            "Epoch 125/200\n",
            "5/5 [==============================] - 1s 142ms/step - loss: 0.2547 - accuracy: 0.9228\n",
            "Epoch 126/200\n",
            "5/5 [==============================] - 1s 140ms/step - loss: 0.2527 - accuracy: 0.9230\n",
            "Epoch 127/200\n",
            "5/5 [==============================] - 1s 138ms/step - loss: 0.2410 - accuracy: 0.9273\n",
            "Epoch 128/200\n",
            "5/5 [==============================] - 1s 104ms/step - loss: 0.2574 - accuracy: 0.9240\n",
            "Epoch 129/200\n",
            "5/5 [==============================] - 0s 78ms/step - loss: 0.2541 - accuracy: 0.9235\n",
            "Epoch 130/200\n",
            "5/5 [==============================] - 0s 82ms/step - loss: 0.2327 - accuracy: 0.9293\n",
            "Epoch 131/200\n",
            "5/5 [==============================] - 0s 80ms/step - loss: 0.2157 - accuracy: 0.9376\n",
            "Epoch 132/200\n",
            "5/5 [==============================] - 0s 81ms/step - loss: 0.2069 - accuracy: 0.9427\n",
            "Epoch 133/200\n",
            "5/5 [==============================] - 0s 79ms/step - loss: 0.1958 - accuracy: 0.9398\n",
            "Epoch 134/200\n",
            "5/5 [==============================] - 0s 78ms/step - loss: 0.1823 - accuracy: 0.9475\n",
            "Epoch 135/200\n",
            "5/5 [==============================] - 0s 82ms/step - loss: 0.1835 - accuracy: 0.9456\n",
            "Epoch 136/200\n",
            "5/5 [==============================] - 0s 78ms/step - loss: 0.1791 - accuracy: 0.9477\n",
            "Epoch 137/200\n",
            "5/5 [==============================] - 0s 82ms/step - loss: 0.1827 - accuracy: 0.9477\n",
            "Epoch 138/200\n",
            "5/5 [==============================] - 0s 79ms/step - loss: 0.1817 - accuracy: 0.9448\n",
            "Epoch 139/200\n",
            "5/5 [==============================] - 0s 82ms/step - loss: 0.1713 - accuracy: 0.9535\n",
            "Epoch 140/200\n",
            "5/5 [==============================] - 0s 84ms/step - loss: 0.1761 - accuracy: 0.9511\n",
            "Epoch 141/200\n",
            "5/5 [==============================] - 0s 79ms/step - loss: 0.1791 - accuracy: 0.9465\n",
            "Epoch 142/200\n",
            "5/5 [==============================] - 0s 82ms/step - loss: 0.1636 - accuracy: 0.9535\n",
            "Epoch 143/200\n",
            "5/5 [==============================] - 0s 77ms/step - loss: 0.1739 - accuracy: 0.9501\n",
            "Epoch 144/200\n",
            "5/5 [==============================] - 0s 83ms/step - loss: 0.1646 - accuracy: 0.9520\n",
            "Epoch 145/200\n",
            "5/5 [==============================] - 0s 80ms/step - loss: 0.1675 - accuracy: 0.9556\n",
            "Epoch 146/200\n",
            "5/5 [==============================] - 0s 81ms/step - loss: 0.1484 - accuracy: 0.9588\n",
            "Epoch 147/200\n",
            "5/5 [==============================] - 0s 80ms/step - loss: 0.1775 - accuracy: 0.9460\n",
            "Epoch 148/200\n",
            "5/5 [==============================] - 0s 77ms/step - loss: 0.1755 - accuracy: 0.9494\n",
            "Epoch 149/200\n",
            "5/5 [==============================] - 0s 83ms/step - loss: 0.1925 - accuracy: 0.9460\n",
            "Epoch 150/200\n",
            "5/5 [==============================] - 0s 81ms/step - loss: 0.1771 - accuracy: 0.9506\n",
            "Epoch 151/200\n",
            "5/5 [==============================] - 0s 80ms/step - loss: 0.1899 - accuracy: 0.9475\n",
            "Epoch 152/200\n",
            "5/5 [==============================] - 1s 127ms/step - loss: 0.2086 - accuracy: 0.9312\n",
            "Epoch 153/200\n",
            "5/5 [==============================] - 1s 142ms/step - loss: 0.2015 - accuracy: 0.9398\n",
            "Epoch 154/200\n",
            "5/5 [==============================] - 1s 134ms/step - loss: 0.1797 - accuracy: 0.9494\n",
            "Epoch 155/200\n",
            "5/5 [==============================] - 1s 131ms/step - loss: 0.1956 - accuracy: 0.9446\n",
            "Epoch 156/200\n",
            "5/5 [==============================] - 1s 140ms/step - loss: 0.1993 - accuracy: 0.9436\n",
            "Epoch 157/200\n",
            "5/5 [==============================] - 1s 142ms/step - loss: 0.1867 - accuracy: 0.9494\n",
            "Epoch 158/200\n",
            "5/5 [==============================] - 1s 133ms/step - loss: 0.1756 - accuracy: 0.9465\n",
            "Epoch 159/200\n",
            "5/5 [==============================] - 0s 81ms/step - loss: 0.1471 - accuracy: 0.9564\n",
            "Epoch 160/200\n",
            "5/5 [==============================] - 0s 78ms/step - loss: 0.1614 - accuracy: 0.9547\n",
            "Epoch 161/200\n",
            "5/5 [==============================] - 0s 81ms/step - loss: 0.1531 - accuracy: 0.9576\n",
            "Epoch 162/200\n",
            "5/5 [==============================] - 0s 85ms/step - loss: 0.1573 - accuracy: 0.9518\n",
            "Epoch 163/200\n",
            "5/5 [==============================] - 0s 80ms/step - loss: 0.1547 - accuracy: 0.9559\n",
            "Epoch 164/200\n",
            "5/5 [==============================] - 0s 83ms/step - loss: 0.1611 - accuracy: 0.9506\n",
            "Epoch 165/200\n",
            "5/5 [==============================] - 0s 78ms/step - loss: 0.1460 - accuracy: 0.9607\n",
            "Epoch 166/200\n",
            "5/5 [==============================] - 0s 81ms/step - loss: 0.1534 - accuracy: 0.9549\n",
            "Epoch 167/200\n",
            "5/5 [==============================] - 0s 82ms/step - loss: 0.1431 - accuracy: 0.9568\n",
            "Epoch 168/200\n",
            "5/5 [==============================] - 0s 79ms/step - loss: 0.1453 - accuracy: 0.9564\n",
            "Epoch 169/200\n",
            "5/5 [==============================] - 0s 80ms/step - loss: 0.1473 - accuracy: 0.9564\n",
            "Epoch 170/200\n",
            "5/5 [==============================] - 0s 80ms/step - loss: 0.1446 - accuracy: 0.9585\n",
            "Epoch 171/200\n",
            "5/5 [==============================] - 0s 82ms/step - loss: 0.1256 - accuracy: 0.9655\n",
            "Epoch 172/200\n",
            "5/5 [==============================] - 0s 84ms/step - loss: 0.1251 - accuracy: 0.9650\n",
            "Epoch 173/200\n",
            "5/5 [==============================] - 0s 81ms/step - loss: 0.1221 - accuracy: 0.9612\n",
            "Epoch 174/200\n",
            "5/5 [==============================] - 0s 81ms/step - loss: 0.1305 - accuracy: 0.9638\n",
            "Epoch 175/200\n",
            "5/5 [==============================] - 0s 79ms/step - loss: 0.1225 - accuracy: 0.9631\n",
            "Epoch 176/200\n",
            "5/5 [==============================] - 0s 85ms/step - loss: 0.1127 - accuracy: 0.9688\n",
            "Epoch 177/200\n",
            "5/5 [==============================] - 0s 81ms/step - loss: 0.1171 - accuracy: 0.9674\n",
            "Epoch 178/200\n",
            "5/5 [==============================] - 0s 87ms/step - loss: 0.1263 - accuracy: 0.9612\n",
            "Epoch 179/200\n",
            "5/5 [==============================] - 0s 79ms/step - loss: 0.1321 - accuracy: 0.9614\n",
            "Epoch 180/200\n",
            "5/5 [==============================] - 0s 79ms/step - loss: 0.1178 - accuracy: 0.9695\n",
            "Epoch 181/200\n",
            "5/5 [==============================] - 0s 78ms/step - loss: 0.1346 - accuracy: 0.9614\n",
            "Epoch 182/200\n",
            "5/5 [==============================] - 1s 129ms/step - loss: 0.1204 - accuracy: 0.9657\n",
            "Epoch 183/200\n",
            "5/5 [==============================] - 1s 139ms/step - loss: 0.1125 - accuracy: 0.9650\n",
            "Epoch 184/200\n",
            "5/5 [==============================] - 1s 135ms/step - loss: 0.1099 - accuracy: 0.9729\n",
            "Epoch 185/200\n",
            "5/5 [==============================] - 1s 141ms/step - loss: 0.1141 - accuracy: 0.9691\n",
            "Epoch 186/200\n",
            "5/5 [==============================] - 1s 136ms/step - loss: 0.1236 - accuracy: 0.9657\n",
            "Epoch 187/200\n",
            "5/5 [==============================] - 1s 137ms/step - loss: 0.1191 - accuracy: 0.9652\n",
            "Epoch 188/200\n",
            "5/5 [==============================] - 1s 134ms/step - loss: 0.1064 - accuracy: 0.9705\n",
            "Epoch 189/200\n",
            "5/5 [==============================] - 0s 79ms/step - loss: 0.0992 - accuracy: 0.9741\n",
            "Epoch 190/200\n",
            "5/5 [==============================] - 0s 78ms/step - loss: 0.1039 - accuracy: 0.9729\n",
            "Epoch 191/200\n",
            "5/5 [==============================] - 0s 80ms/step - loss: 0.0945 - accuracy: 0.9717\n",
            "Epoch 192/200\n",
            "5/5 [==============================] - 0s 77ms/step - loss: 0.0941 - accuracy: 0.9712\n",
            "Epoch 193/200\n",
            "5/5 [==============================] - 0s 84ms/step - loss: 0.1110 - accuracy: 0.9695\n",
            "Epoch 194/200\n",
            "5/5 [==============================] - 0s 79ms/step - loss: 0.0892 - accuracy: 0.9784\n",
            "Epoch 195/200\n",
            "5/5 [==============================] - 0s 82ms/step - loss: 0.0984 - accuracy: 0.9748\n",
            "Epoch 196/200\n",
            "5/5 [==============================] - 0s 81ms/step - loss: 0.0891 - accuracy: 0.9767\n",
            "Epoch 197/200\n",
            "5/5 [==============================] - 0s 78ms/step - loss: 0.1002 - accuracy: 0.9722\n",
            "Epoch 198/200\n",
            "5/5 [==============================] - 0s 85ms/step - loss: 0.1284 - accuracy: 0.9583\n",
            "Epoch 199/200\n",
            "5/5 [==============================] - 0s 81ms/step - loss: 0.1074 - accuracy: 0.9645\n",
            "Epoch 200/200\n",
            "5/5 [==============================] - 0s 83ms/step - loss: 0.1105 - accuracy: 0.9707\n"
          ]
        },
        {
          "output_type": "execute_result",
          "data": {
            "text/plain": [
              "<keras.callbacks.History at 0x7f4bda0ab970>"
            ]
          },
          "metadata": {},
          "execution_count": 64
        }
      ]
    },
    {
      "cell_type": "code",
      "source": [
        "#evaluate performance of model\n",
        "loss, acc = model.evaluate(testing_images, testing_labels, batch_size=batch_size)\n",
        "print(\"\\nTest accuracy: %.1f%%\" % (100.0 * acc))"
      ],
      "metadata": {
        "colab": {
          "base_uri": "https://localhost:8080/"
        },
        "id": "fIo5jaDEmcyW",
        "outputId": "10e0d34a-c85a-48b8-d1ba-620c98b4c06b"
      },
      "execution_count": 65,
      "outputs": [
        {
          "output_type": "stream",
          "name": "stdout",
          "text": [
            "2/2 [==============================] - 0s 34ms/step - loss: 3.0094 - accuracy: 0.4955\n",
            "\n",
            "Test accuracy: 49.5%\n"
          ]
        }
      ]
    }
  ]
}